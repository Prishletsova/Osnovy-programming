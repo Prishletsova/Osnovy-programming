{
  "nbformat": 4,
  "nbformat_minor": 0,
  "metadata": {
    "colab": {
      "provenance": [],
      "authorship_tag": "ABX9TyNe0nNlZhJdZMSdrmNu68qb",
      "include_colab_link": true
    },
    "kernelspec": {
      "name": "python3",
      "display_name": "Python 3"
    },
    "language_info": {
      "name": "python"
    }
  },
  "cells": [
    {
      "cell_type": "markdown",
      "metadata": {
        "id": "view-in-github",
        "colab_type": "text"
      },
      "source": [
        "<a href=\"https://colab.research.google.com/github/Prishletsova/Osnovy_programming/blob/main/%D0%9B%D0%B0%D0%B1%D0%BE%D1%80%D0%B0%D1%82%D0%BE%D1%80%D0%BD%D0%B0%D1%8F_%D1%80%D0%B0%D0%B1%D0%BE%D1%82%D0%B0_5.ipynb\" target=\"_parent\"><img src=\"https://colab.research.google.com/assets/colab-badge.svg\" alt=\"Open In Colab\"/></a>"
      ]
    },
    {
      "cell_type": "markdown",
      "source": [
        "# Программирование на языке высокого уровня (Python).\n",
        "# Выполнила: Пришлецова К. С.\n",
        "# Группа: АДЭУ-221\n",
        "# E-mail: greypurplenails78@gmail.com"
      ],
      "metadata": {
        "id": "SodLb5Rl2CcH"
      }
    },
    {
      "cell_type": "markdown",
      "source": [
        "5.2.1. Глобальные и локальные функции\n",
        "\n",
        "\n",
        "№ 5.2.1\n",
        "\n",
        "Определите значение ![image.png](data:image/png;base64,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) где sgn - сигнум-функция, а x и y - вещественные числа: ![image.png](data:image/png;base64,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)"
      ],
      "metadata": {
        "id": "OA8i2RgU1QU2"
      }
    },
    {
      "cell_type": "code",
      "execution_count": null,
      "metadata": {
        "id": "7I1VNIpJ1Ne1"
      },
      "outputs": [],
      "source": [
        "# Задание task_05_02_01.\n",
        "\n",
        "def sgn():\n",
        "  return (float(x) for x in input(\"Введите x, y: \").split())\n",
        "\n",
        "def function(a):\n",
        "  if a>0:\n",
        "    res=1\n",
        "    return res\n",
        "  elif a==0:\n",
        "    res=0\n",
        "    return res\n",
        "  elif a<0:\n",
        "    res=-1\n",
        "    return res\n",
        "\n",
        "def znachenie(a, b):\n",
        "  if (a==0 and b==0 or abs(a)==abs(b) or abs(a)-abs(b)==1):\n",
        "    return\n",
        "  z=(function(a)+b**2)/(function(b)-(abs(a))**0.5)\n",
        "  return z\n",
        "\n",
        "def print_res(res):\n",
        "  if res:\n",
        "    print(\"Ответ: {:.2f}\".format(res))\n",
        "  else:\n",
        "    print(\"Проверить ОДЗ\")\n",
        "\n",
        "    \"\"\"Вернуть результат сигнум-функции.\n",
        "\n",
        "    Параметры:\n",
        "        - x (float): аргумент x.\n",
        "\n",
        "    Результат:\n",
        "        float: значение функции.\n",
        "    \"\"\"\n",
        "\n",
        "# --------------\n",
        "# Пример вывода:\n",
        "#\n",
        "# Введите x: -9\n",
        "# Введите y: 0\n",
        "# Ответ: 0.33\n"
      ]
    },
    {
      "cell_type": "code",
      "source": [
        "x, y = sgn()\n",
        "res = znachenie(x, y)\n",
        "print_res(res)"
      ],
      "metadata": {
        "colab": {
          "base_uri": "https://localhost:8080/"
        },
        "id": "d3NzbweHL_4X",
        "outputId": "f3bae407-b971-4aa7-e027-e31eef14af78"
      },
      "execution_count": null,
      "outputs": [
        {
          "output_type": "stream",
          "name": "stdout",
          "text": [
            "Введите x, y: -9 0\n",
            "Ответ: 0.33\n"
          ]
        }
      ]
    },
    {
      "cell_type": "markdown",
      "source": [
        "№ 5.2.2\n",
        "\n",
        "Дан список температурных изменений в течение дня (целые числа). Известно, что измеряющее устройство иногда сбоит и записывает отсутствие температуры (значение None)."
      ],
      "metadata": {
        "id": "ytkQEBuY0wzE"
      }
    },
    {
      "cell_type": "code",
      "source": [
        "# Задание task_05_02_02.\n",
        "\n",
        "def input_data():\n",
        "  for i in range(n):\n",
        "    dimension = input(\"Измерение {}-е: \".format(i+1))\n",
        "    if dimension == \"-\":\n",
        "      data.append(None)\n",
        "    else:\n",
        "      data.append(int(dimension))\n",
        "    i += 1\n",
        "\n",
        "def avg(new_data):\n",
        "  return sum(new_data) / len(new_data)\n",
        "\n",
        "def cleared_data(data):\n",
        "  new_data = []\n",
        "  for x in data:\n",
        "    if x != None:\n",
        "      new_data.append(x)\n",
        "  return new_data\n",
        "\n",
        "def print_res2():\n",
        "  z = avg(cleared_data(data))\n",
        "  print(\"Средняя температура: {:.2f}\".format(z))\n",
        "# --------------\n",
        "# Пример вывода:\n",
        "#\n",
        "# Кол-во измерений: 3\n",
        "# Измерение 1-е: 10\n",
        "# Измерение 2-е: -\n",
        "# Измерение 3-е: 20\n",
        "# Средняя температура: 15.00\n",
        "\n"
      ],
      "metadata": {
        "id": "Z51LkOxw03p_"
      },
      "execution_count": null,
      "outputs": []
    },
    {
      "cell_type": "code",
      "source": [
        "n = int(input(\"Количество измерений: \"))\n",
        "\n",
        "data = []\n",
        "\n",
        "input_data()\n",
        "\n",
        "print_res2()"
      ],
      "metadata": {
        "colab": {
          "base_uri": "https://localhost:8080/"
        },
        "id": "558oxxPT2P_p",
        "outputId": "299dca63-451e-405d-f8af-0bd545407a70"
      },
      "execution_count": null,
      "outputs": [
        {
          "output_type": "stream",
          "name": "stdout",
          "text": [
            "Количество измерений: 3\n",
            "Измерение 1-е: 10\n",
            "Измерение 2-е: -\n",
            "Измерение 3-е: 20\n",
            "Средняя температура: 15.00\n"
          ]
        }
      ]
    },
    {
      "cell_type": "markdown",
      "source": [
        "№ 5.2.3\n",
        "\n",
        "Выведите все счастливые номера билетов в диапазоне от a до b (положительные целые числа, a<b), если известно, что счастливым считается номер, у которого количество четных цифр равно количеству нечетных."
      ],
      "metadata": {
        "id": "yLnbtS1jBzXR"
      }
    },
    {
      "cell_type": "code",
      "source": [
        "def input_data():\n",
        "  return (int(x) for x in input(\"Введите первый номер билета и последний номер билета: \").split())\n",
        "\n",
        "def is_lucky(num):\n",
        "  even = 0\n",
        "  odd = 0\n",
        "  for i in map(int, str(num)):\n",
        "    if i % 2 == 0:\n",
        "      even += 1\n",
        "    else:\n",
        "      odd += 1\n",
        "  if even == odd:\n",
        "    lucky_num.append(num)\n",
        "  else:\n",
        "    pass\n",
        "\n",
        "def lucky_numbers(a, b):\n",
        "  num = a\n",
        "  while num in range(a, b + 1):\n",
        "    is_lucky(num)\n",
        "    if num in lucky_num:\n",
        "      lk_num.append(num)\n",
        "      num += 1\n",
        "    else:\n",
        "      num += 1\n",
        "  return lk_num "
      ],
      "metadata": {
        "id": "2XIm7arP2QG2"
      },
      "execution_count": null,
      "outputs": []
    },
    {
      "cell_type": "code",
      "source": [
        "lucky_num = []\n",
        "number = []\n",
        "lk_num = []\n",
        "\n",
        "a, b = input_data()\n",
        "\n",
        "print(lucky_numbers(a, b))"
      ],
      "metadata": {
        "colab": {
          "base_uri": "https://localhost:8080/"
        },
        "id": "eoBYrZAjCAB5",
        "outputId": "c830b900-8dd5-439a-dde7-294092140c6e"
      },
      "execution_count": null,
      "outputs": [
        {
          "output_type": "stream",
          "name": "stdout",
          "text": [
            "Введите первый номер билета и последний номер билета: 10 25\n",
            "[10, 12, 14, 16, 18, 21, 23, 25]\n"
          ]
        }
      ]
    },
    {
      "cell_type": "markdown",
      "source": [
        "№ 5.2.4\n",
        "\n",
        "Дата характеризуется тремя натуральными числами: день, месяц и год. Учитывая, что год может быть високосным, реализуйте две функции, которые определяют вчерашнюю и завтрашнюю дату."
      ],
      "metadata": {
        "id": "iM70DlUQj1GJ"
      }
    },
    {
      "cell_type": "code",
      "source": [
        "def input_data():\n",
        "\n",
        "  return (int(x) for x in input(\"День, месяц, год: \").split())\n",
        "\n",
        "def is_leap(year):\n",
        "  if year % 4 == 0 and year % 100 != 0 or year % 400 == 0:\n",
        "    febrary_day = 29\n",
        "  else:\n",
        "    febrary_day = 28\n",
        "  return febrary_day\n",
        "\n",
        "def days(month, year):\n",
        "  month_day_31 = [1, 3, 5, 7, 8, 10 ,12]\n",
        "  month_day_30 = [4, 6, 9, 11]\n",
        "  if month in month_day_31:\n",
        "    date = 31\n",
        "  elif month in month_day_30:\n",
        "    date = 30\n",
        "  else:\n",
        "    date = is_leap(year)\n",
        "  return date\n",
        "\n",
        "def previous_date(day, month, year):\n",
        "  if day == 1:\n",
        "    month -= 1\n",
        "    if month == 0:\n",
        "      year -= 1\n",
        "      month = 12\n",
        "      day=days(month, year)\n",
        "    else:\n",
        "      year = year\n",
        "      month = month\n",
        "      day = days(month, year)\n",
        "  else:\n",
        "    day -= 1\n",
        "    month = month\n",
        "    year = year\n",
        "  return day, month, year\n",
        "\n",
        "def next_date(day, month, year):\n",
        "  if day == days(month, year):\n",
        "    month += 1\n",
        "    if month == 13:\n",
        "      month = 1 \n",
        "      year += 1\n",
        "      day = 1\n",
        "    else:\n",
        "      month = month\n",
        "      day = 1\n",
        "      year = year\n",
        "  else:\n",
        "    day += 1\n",
        "    month = month\n",
        "    year = year\n",
        "  return day, month, year"
      ],
      "metadata": {
        "id": "s6HJAVoZj6oV"
      },
      "execution_count": null,
      "outputs": []
    },
    {
      "cell_type": "code",
      "source": [
        "day, month, year = input_data()\n",
        "print(\"Предыдущий день: \",previous_date(day, month, year))\n",
        "print(\"Следующий день: \", next_date(day, month, year)) \n",
        "\n",
        "# --------------\n",
        "# Пример вывода:\n",
        "#\n",
        "# День, месяц, год через пробел: 1 3 2000\n",
        "# Предыдущий день: 29/02/2000\n",
        "# Следующий день: 02/03/2000\n"
      ],
      "metadata": {
        "id": "uf2acQsJkB33",
        "colab": {
          "base_uri": "https://localhost:8080/"
        },
        "outputId": "ffbaf50e-cdc0-460a-d2cd-99ab5375ab3f"
      },
      "execution_count": null,
      "outputs": [
        {
          "output_type": "stream",
          "name": "stdout",
          "text": [
            "День, месяц, год: 1 3 2000\n",
            "Предыдущий день:  (29, 2, 2000)\n",
            "Следующий день:  (2, 3, 2000)\n"
          ]
        }
      ]
    },
    {
      "cell_type": "markdown",
      "source": [
        "№ 5.2.5\n",
        "\n",
        "В задаче № 5.2.4 замените функции получения вчерашней и завтрашней даты на одну:\n",
        "\n",
        "def another_date(day, month, year, delta=1):\n",
        "    pass\n",
        "    \n",
        "где delta - ключевой параметр, определяющий сколько дней необходимо добавить или вычесть (если аргумент отрицательный) из переданной даты. Функции, реализованные в задаче № 5.2.4 сделайте локальными для another_date(), вызывая их внутри необходимое количество раз."
      ],
      "metadata": {
        "id": "CmHjNp_lwXkd"
      }
    },
    {
      "cell_type": "code",
      "source": [
        "# Задание task_05_02_05.\n",
        "\n",
        "def input_data():\n",
        "\n",
        "  return (int(x) for x in input(\"День, месяц, год: \").split())\n",
        "\n",
        "def is_leap(year):\n",
        "  if year % 4 == 0 and year % 100 != 0 or year % 400 == 0:\n",
        "    febrary_day = 29\n",
        "  else:\n",
        "    febrary_day = 28\n",
        "  return febrary_day\n",
        "\n",
        "def days(month, year):\n",
        "  month_day_31 = [1, 3, 5, 7, 8, 10 ,12]\n",
        "  month_day_30 = [4, 6, 9, 11]\n",
        "  if month in month_day_31:\n",
        "    date = 31\n",
        "  elif month in month_day_30:\n",
        "    date = 30\n",
        "  else:\n",
        "    date = is_leap(year)\n",
        "  return date\n",
        "\n",
        "\n",
        "def another_date(day, month, year, delta = 1):\n",
        "  def previous_date(day, month, year):\n",
        "    if day == 1:\n",
        "      month -= delta\n",
        "      if month == 0:\n",
        "        year -= delta\n",
        "        month = 12\n",
        "        day=days(month, year)\n",
        "      else:\n",
        "        year = year\n",
        "        month = month\n",
        "        day = days(month, year)\n",
        "    else:\n",
        "      day -= delta\n",
        "      month = month\n",
        "      year = year\n",
        "  return day, month, year\n",
        "  \n",
        "  def next_date(day, month, year):\n",
        "    if day == days(month, year):\n",
        "      month += delta\n",
        "      if month == 13:\n",
        "        month = delta \n",
        "        year += delta\n",
        "        day = delta\n",
        "      else:\n",
        "        month = month\n",
        "        day = delta\n",
        "        year = year\n",
        "    else:\n",
        "      day += delta\n",
        "      month = month\n",
        "      year = year\n",
        "  return day, month, year\n",
        "\n",
        "return previous_date()\n",
        "\n",
        "# --------------\n",
        "# Пример вывода:\n",
        "#\n",
        "# День, месяц, год через пробел: 1 1 2000\n",
        "# Свдиг (может быть отрицательным): -2\n",
        "# Новый день: 30/12/1999\n",
        "#\n",
        "# День, месяц, год через пробел: 1 1 2000\n",
        "# Свдиг (может быть отрицательным): 2\n",
        "# Новый день: 03/01/2000\n",
        "\n"
      ],
      "metadata": {
        "id": "t7aKWWb7wiwW"
      },
      "execution_count": 1,
      "outputs": []
    },
    {
      "cell_type": "code",
      "source": [
        "day, month, year = input_data()\n",
        "print(\"Предыдущий день: \",previous_date(day, month, year))\n",
        "print(\"Следующий день: \", next_date(day, month, year)) \n",
        "\n",
        "# --------------\n",
        "# Пример вывода:\n",
        "#\n",
        "# День, месяц, год через пробел: 1 3 2000\n",
        "# Предыдущий день: 29/02/2000\n",
        "# Следующий день: 02/03/2000\n"
      ],
      "metadata": {
        "colab": {
          "base_uri": "https://localhost:8080/",
          "height": 252
        },
        "id": "599k5EeNRnu6",
        "outputId": "73889493-407f-40f8-e3a6-95b165e85201"
      },
      "execution_count": 2,
      "outputs": [
        {
          "name": "stdout",
          "output_type": "stream",
          "text": [
            "День, месяц, год: 1 3 2000\n"
          ]
        },
        {
          "output_type": "error",
          "ename": "NameError",
          "evalue": "ignored",
          "traceback": [
            "\u001b[0;31m---------------------------------------------------------------------------\u001b[0m",
            "\u001b[0;31mNameError\u001b[0m                                 Traceback (most recent call last)",
            "\u001b[0;32m<ipython-input-2-ff11dba8bd31>\u001b[0m in \u001b[0;36m<module>\u001b[0;34m\u001b[0m\n\u001b[1;32m      1\u001b[0m \u001b[0mday\u001b[0m\u001b[0;34m,\u001b[0m \u001b[0mmonth\u001b[0m\u001b[0;34m,\u001b[0m \u001b[0myear\u001b[0m \u001b[0;34m=\u001b[0m \u001b[0minput_data\u001b[0m\u001b[0;34m(\u001b[0m\u001b[0;34m)\u001b[0m\u001b[0;34m\u001b[0m\u001b[0;34m\u001b[0m\u001b[0m\n\u001b[0;32m----> 2\u001b[0;31m \u001b[0mprint\u001b[0m\u001b[0;34m(\u001b[0m\u001b[0;34m\"Предыдущий день: \"\u001b[0m\u001b[0;34m,\u001b[0m\u001b[0mprevious_date\u001b[0m\u001b[0;34m(\u001b[0m\u001b[0mday\u001b[0m\u001b[0;34m,\u001b[0m \u001b[0mmonth\u001b[0m\u001b[0;34m,\u001b[0m \u001b[0myear\u001b[0m\u001b[0;34m)\u001b[0m\u001b[0;34m)\u001b[0m\u001b[0;34m\u001b[0m\u001b[0;34m\u001b[0m\u001b[0m\n\u001b[0m\u001b[1;32m      3\u001b[0m \u001b[0mprint\u001b[0m\u001b[0;34m(\u001b[0m\u001b[0;34m\"Следующий день: \"\u001b[0m\u001b[0;34m,\u001b[0m \u001b[0mnext_date\u001b[0m\u001b[0;34m(\u001b[0m\u001b[0mday\u001b[0m\u001b[0;34m,\u001b[0m \u001b[0mmonth\u001b[0m\u001b[0;34m,\u001b[0m \u001b[0myear\u001b[0m\u001b[0;34m)\u001b[0m\u001b[0;34m)\u001b[0m\u001b[0;34m\u001b[0m\u001b[0;34m\u001b[0m\u001b[0m\n\u001b[1;32m      4\u001b[0m \u001b[0;34m\u001b[0m\u001b[0m\n\u001b[1;32m      5\u001b[0m \u001b[0;31m# --------------\u001b[0m\u001b[0;34m\u001b[0m\u001b[0;34m\u001b[0m\u001b[0;34m\u001b[0m\u001b[0m\n",
            "\u001b[0;31mNameError\u001b[0m: name 'previous_date' is not defined"
          ]
        }
      ]
    },
    {
      "cell_type": "markdown",
      "source": [
        "№ 5.2.6\n",
        "\n",
        "Дан список из чисел.\n",
        "\n",
        "Определите их НОК (наименьшее общее кратное) и НОД (наибольший общий делитель)."
      ],
      "metadata": {
        "id": "B5B0x5vxG1sP"
      }
    },
    {
      "cell_type": "code",
      "source": [
        "# Задание task_05_02_06.\n",
        "\n",
        "def gcd(first, second):\n",
        "    \"\"\"Вернуть НОД целых чисел 'first' и 'second'.\"\"\"\n",
        "    # Удалите комментарий и допишите код\n",
        "\n",
        "\n",
        "def lcm(first, second):\n",
        "    \"\"\"Вернуть НОК целых чисел 'first' и 'second'.\"\"\"\n",
        "    # Удалите комментарий и допишите код\n",
        "\n",
        "\n",
        "def gcd_nums(nums):\n",
        "    \"\"\"Вернуть НОД чисел из списка 'nums'.\n",
        "\n",
        "    Параметры:\n",
        "        !!!.\n",
        "\n",
        "    Результат:\n",
        "        !!!.\n",
        "    \"\"\"\n",
        "    # Удалите комментарий и допишите код\n",
        "\n",
        "\n",
        "def lcm_nums(nums):\n",
        "    \"\"\"Вернуть НОК чисел из списка 'nums'.\n",
        "\n",
        "    Параметры:\n",
        "        !!!.\n",
        "\n",
        "    Результат:\n",
        "        !!!.\n",
        "    \"\"\"\n",
        "    # Удалите комментарий и допишите код\n",
        "\n",
        "x = int(input())\n",
        "\n",
        "nums = # Удалите комментарий и допишите код\n",
        "\n",
        "# Удалите комментарий и допишите код\n",
        "\n",
        "# --------------\n",
        "# Пример вывода:\n",
        "#\n",
        "# Введите числа через пробел: 8 10 14\n",
        "# НОД = 2\n",
        "# НОК = 280\n",
        "#\n",
        "# Введите числа через пробел: 6 8 24 16\n",
        "# НОД = 2\n",
        "# НОК = 48\n",
        "\n"
      ],
      "metadata": {
        "id": "5OekudnnG1Yu"
      },
      "execution_count": null,
      "outputs": []
    },
    {
      "cell_type": "markdown",
      "source": [
        "№ 5.2.8\n",
        "\n",
        "Дана строка s и символ k. Реализуйте функцию, рисующую рамку из символа k вокруг данной строки, например:\n",
        "\n",
        "***************\n",
        "*Текст в рамке*\n",
        "***************"
      ],
      "metadata": {
        "id": "Bh4cqkNAi5fM"
      }
    },
    {
      "cell_type": "code",
      "source": [
        "def stroka():\n",
        "  return(input(\"Введите строку: \"))\n",
        "\n",
        "def simvol():\n",
        "  return(input(\"Введите символ: \"))\n",
        "\n",
        "def print_with_border(s, k):\n",
        "  s_len = len(s)\n",
        "  print(k * (s_len + 2))\n",
        "  print(k + s + k)\n",
        "  print(k * (s_len + 2))"
      ],
      "metadata": {
        "id": "AvfLq8cJi5MA"
      },
      "execution_count": null,
      "outputs": []
    },
    {
      "cell_type": "code",
      "source": [
        "s = stroka()\n",
        "k = simvol()\n",
        "print_with_border(s, k)"
      ],
      "metadata": {
        "colab": {
          "base_uri": "https://localhost:8080/"
        },
        "id": "1x5pUo0XjNnN",
        "outputId": "a8f7e51b-e2d3-4701-f327-0fc6ff15169e"
      },
      "execution_count": null,
      "outputs": [
        {
          "output_type": "stream",
          "name": "stdout",
          "text": [
            "Введите строку: я и мои мысли перед сном\n",
            "Введите символ: *\n",
            "**************************\n",
            "*я и мои мысли перед сном*\n",
            "**************************\n"
          ]
        }
      ]
    }
  ]
}