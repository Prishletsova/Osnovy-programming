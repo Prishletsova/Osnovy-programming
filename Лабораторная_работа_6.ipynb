{
  "nbformat": 4,
  "nbformat_minor": 0,
  "metadata": {
    "colab": {
      "provenance": [],
      "authorship_tag": "ABX9TyM/1Qbg+ECfIHZ4PnmpCVTs",
      "include_colab_link": true
    },
    "kernelspec": {
      "name": "python3",
      "display_name": "Python 3"
    },
    "language_info": {
      "name": "python"
    }
  },
  "cells": [
    {
      "cell_type": "markdown",
      "metadata": {
        "id": "view-in-github",
        "colab_type": "text"
      },
      "source": [
        "<a href=\"https://colab.research.google.com/github/Prishletsova/Osnovy_programming/blob/main/%D0%9B%D0%B0%D0%B1%D0%BE%D1%80%D0%B0%D1%82%D0%BE%D1%80%D0%BD%D0%B0%D1%8F_%D1%80%D0%B0%D0%B1%D0%BE%D1%82%D0%B0_6.ipynb\" target=\"_parent\"><img src=\"https://colab.research.google.com/assets/colab-badge.svg\" alt=\"Open In Colab\"/></a>"
      ]
    },
    {
      "cell_type": "markdown",
      "source": [
        "# Программирование на языке высокого уровня (Python).\n",
        "# https://www.yuripetrov.ru/edu/python\n",
        "# Выполнила: Пришлецова К.С.\n",
        "# Группа: АДЭУ-221\n",
        "# E-mail: greypurplenails78@gmail.com"
      ],
      "metadata": {
        "id": "bzwV4CsNxjCS"
      }
    },
    {
      "cell_type": "code",
      "execution_count": null,
      "metadata": {
        "colab": {
          "base_uri": "https://localhost:8080/"
        },
        "id": "NC7qTcA_xfx-",
        "outputId": "04ced098-5fd6-4b15-bc59-3ef97385a2a2"
      },
      "outputs": [
        {
          "output_type": "execute_result",
          "data": {
            "text/plain": [
              "[-2, -2, -2, 1, 1, 2, 2, 2, 2, 2, 3, 3, 3, 4, 4, 5, 65]"
            ]
          },
          "metadata": {},
          "execution_count": 1
        }
      ],
      "source": [
        "# Задание task_06_02_01.\n",
        "\n",
        "\n",
        "def foo(a):\n",
        "    \"\"\"!!!\n",
        "\n",
        "    Сложность: !!!.\n",
        "    \"\"\"\n",
        "    for i in range(len(a), 0, -1):             # O(1)\n",
        "        for j in range(1, i):                  #O(N)\n",
        "            if a[j-1] > a[j]:                  #O(N) + O(len(a))\n",
        "                a[j-1], a[j] = a[j], a[j-1]    #O(N)\n",
        "    return a                                   # O(1)\n",
        "\n",
        "\n",
        "a = [1, 2, 3, 4, 2, 1, 3, 4, 3, 5, -2, -2, 2, -2, 65, 2, 2]\n",
        "foo(a)\n",
        "\n",
        "# Алгоритм: Функция получается на входе список и выводит его отсортированный\n",
        "# вариант в порядке возрастания\n",
        "# Общая сложность: O(N)*O(N) + O(N) + O(len(a)) + O(N) + O(1) = 0(N**2) + \n",
        "# + O(N + len(a) + N + 1) = O(N**2) + O(2N + 1 + len(a)) = O(N**2) + O(N) = \n",
        "# = O(N**2) "
      ]
    },
    {
      "cell_type": "markdown",
      "source": [
        "6.2.2. Сравнение сложности алгоритмов\n",
        "Для каждой задачи ниже:\n",
        "\n",
        "Реализуйте требуемые способы решения.\n",
        "\n",
        "Укажите наихудшую вычислительную (асимптотическую) сложность каждого из способов в строке документации.\n",
        "\n",
        "Сравните способы решения, сопоставив их асимптотические и временные сложности (устно)."
      ],
      "metadata": {
        "id": "BlLI45SgDlZe"
      }
    },
    {
      "cell_type": "code",
      "source": [
        "# Задание task_06_02_02.\n",
        "\n",
        "\n",
        "def foo(i):\n",
        "    \"\"\"!!!\n",
        "\n",
        "    Параметры:\n",
        "        - i (int): число.\n",
        "\n",
        "    Сложность: !!!.\n",
        "    \"\"\"\n",
        "    digits = \"0123456789\"                # O(1)\n",
        "    if i == 0:                           # O(N) + O(N)\n",
        "        return \"0\"                       # O(1)\n",
        "    result = \"\"                          # O(1)\n",
        "    while i > 0:                         # O(N) \n",
        "        result = digits[i%10] + result   # O(1) + O(1) + O(1)\n",
        "        i = i // 10                      # O(1) + O(1)\n",
        "    return result                        #O(1)\n",
        "\n",
        "i = 789\n",
        "foo(i)\n",
        "\n",
        "# Алгоритм: На входе функция получает число, а на выходе выводит это же число\n",
        "# в перевернутом виде.                   !!!!!!!!  СПРОСИТЬ, ПОЧЕМУ НЕ РАБОТАЕТ   \n",
        "# Сложность: O(1) + O(1) + O(1) + O(1) + O(1) + O(N) * (O(1) + O(1) + O(1) + O(1) + O(1)) \n",
        "# + O(1) = 6*O(1) + O(N) * 5*O(1) = 6*O(1) + O(N) = O(N)"
      ],
      "metadata": {
        "id": "v6W9iJZ8Do8w",
        "colab": {
          "base_uri": "https://localhost:8080/",
          "height": 36
        },
        "outputId": "1e47eaea-4e49-43af-dfc6-58f4af5a5b60"
      },
      "execution_count": null,
      "outputs": [
        {
          "output_type": "execute_result",
          "data": {
            "text/plain": [
              "'789'"
            ],
            "application/vnd.google.colaboratory.intrinsic+json": {
              "type": "string"
            }
          },
          "metadata": {},
          "execution_count": 3
        }
      ]
    },
    {
      "cell_type": "code",
      "source": [
        "# Задание task_06_02_03.\n",
        "\n",
        "\n",
        "def foo(s):\n",
        "    \"\"\"!!!\n",
        "\n",
        "    Параметры:\n",
        "        - s (str): строка.\n",
        "\n",
        "    Сложность: !!!.\n",
        "    \"\"\"\n",
        "    val = 0                             # O(1)\n",
        "    for c in s:                         # O(N) + O(1)\n",
        "        if c.isdigit():                 # O(N) + O(1)\n",
        "            val += int(c)               # O(1) + O(1)\n",
        "    return val                          # O(1)\n",
        "\n",
        "foo(\"g4hhj6jk68912\")\n",
        "\n",
        "# Алгоритм: Функция получает на входе строку, а на выходе вывдает сумму чисел,\n",
        "# присутствующих в данной строке.\n",
        "# Общая сложность: O(1) + O(N) + O(1) + O(N) + O(1) + O(1) + O(1) + O(1) = \n",
        "# = 2*O(N) + 6*O(1) = O(N)"
      ],
      "metadata": {
        "colab": {
          "base_uri": "https://localhost:8080/"
        },
        "id": "abA6VtOeeAvw",
        "outputId": "3a516fbf-6c21-41c5-83d7-237863357549"
      },
      "execution_count": null,
      "outputs": [
        {
          "output_type": "execute_result",
          "data": {
            "text/plain": [
              "36"
            ]
          },
          "metadata": {},
          "execution_count": 2
        }
      ]
    },
    {
      "cell_type": "code",
      "source": [
        "# Задание task_06_02_04.\n",
        "\n",
        "\n",
        "def foo(n):\n",
        "    \"\"\"!!!\n",
        "\n",
        "    Параметры:\n",
        "        - n (int): число.\n",
        "\n",
        "    Сложность: !!!.\n",
        "    \"\"\"\n",
        "    res = []                            # O(1)\n",
        "    for i in range(1, n + 1):           # O(N) + O(1)             \n",
        "        divisors = 0                    # O(1)       \n",
        "        j = 2                           # O(1)     \n",
        "        while j < i and divisors == 0:  # O(N) + O(1) + O(1)        \n",
        "            if i % j == 0:              # O(1) + O(1)\n",
        "                divisors += 1           # O(1)\n",
        "            j += 1                      # O(1)\n",
        "\n",
        "        if divisors == 0:               # O(1)\n",
        "            res.append(i)               # O(1)\n",
        "\n",
        "    return res                          # O(1)\n",
        "\n",
        "foo(87)\n",
        "\n",
        "# Алгоритм: На входе функция получает число. С помощью перебора от одного \n",
        "# до данного числа на выходе функция выдает список всех нечетных, кроме 2, \n",
        "# чисел по число, введенное с клавиатуры. \n",
        "# Сложность: O(1) + (O(N) + O(1)) * (O(1) + O(1) + O(N) + O(1) + O(1) + O(1) +\n",
        "# + O(1) + O(1) + O(1) + O(1) + O(1)) + O(1) = O(N) * (O(N) + 10*O(1)) =\n",
        "# = O(N)*O(N) = O(N**2)"
      ],
      "metadata": {
        "colab": {
          "base_uri": "https://localhost:8080/"
        },
        "id": "_MSIWjnjnoRa",
        "outputId": "837cf61c-de05-4057-ed51-1d0fc2f58186"
      },
      "execution_count": null,
      "outputs": [
        {
          "output_type": "execute_result",
          "data": {
            "text/plain": [
              "[1,\n",
              " 2,\n",
              " 3,\n",
              " 5,\n",
              " 7,\n",
              " 11,\n",
              " 13,\n",
              " 17,\n",
              " 19,\n",
              " 23,\n",
              " 29,\n",
              " 31,\n",
              " 37,\n",
              " 41,\n",
              " 43,\n",
              " 47,\n",
              " 53,\n",
              " 59,\n",
              " 61,\n",
              " 67,\n",
              " 71,\n",
              " 73,\n",
              " 79,\n",
              " 83]"
            ]
          },
          "metadata": {},
          "execution_count": 8
        }
      ]
    },
    {
      "cell_type": "code",
      "source": [
        "# Задание task_06_02_05.\n",
        "\n",
        "def foo(nums):\n",
        "    \"\"\"!!!\n",
        "\n",
        "    Параметры:\n",
        "        - nums (list): список.\n",
        "\n",
        "    Сложность: !!!.\n",
        "    \"\"\"\n",
        "    for x in nums:         # O(N)\n",
        "        if x % 2 == 0:     # O(1) + O(1)\n",
        "            return True    # O(1)\n",
        "    else:\n",
        "        return False       # O(1)\n",
        "\n",
        "foo([1, 2, 6, 7, 9])\n",
        "# Алгоритм: На входе функция получает список, и если элемент данного списка \n",
        "# делится на 2, то на выходе мы получаем True, в ином случае - False.  \n",
        "# !!!!!!! Почему мы получаем только False или True, хотя разные элементы могут делиться или не делиться на 2?\n",
        "# Сложность: O(N) + O(1) + O(1) + O(1) + O(1) = O(N) + 4*O(1) = O(N) + O(1) =\n",
        "# = O(N)"
      ],
      "metadata": {
        "id": "Hbt8JFGDEGtk",
        "colab": {
          "base_uri": "https://localhost:8080/"
        },
        "outputId": "646c7b97-af7e-48e0-ac19-84849ba1a7a0"
      },
      "execution_count": null,
      "outputs": [
        {
          "output_type": "execute_result",
          "data": {
            "text/plain": [
              "True"
            ]
          },
          "metadata": {},
          "execution_count": 5
        }
      ]
    },
    {
      "cell_type": "code",
      "source": [
        "# Задание task_06_02_06.\n",
        "\n",
        "\n",
        "def foo(nums):\n",
        "    \"\"\"!!!\n",
        "\n",
        "    Параметры:\n",
        "        - nums (list): список.\n",
        "\n",
        "    Сложность: !!!.\n",
        "    \"\"\"\n",
        "    return (nums[0] + nums[-1] ** 2)  # O(1) + O(1) + O(1)\n",
        "\n",
        "foo([11, 7, 9, 90])\n",
        "# Алгоритм: На входе функция получает список чисел, а на выходе выдет \n",
        "# сумму первого элемента и квадрата последнего.\n",
        "# Сложность: O(1) + O(1) + O(1) = 3*O(1) = O(1)"
      ],
      "metadata": {
        "colab": {
          "base_uri": "https://localhost:8080/"
        },
        "id": "g46e04w8-MVQ",
        "outputId": "30a56ac2-e67f-454e-bfa1-4af8d3bd014d"
      },
      "execution_count": null,
      "outputs": [
        {
          "output_type": "execute_result",
          "data": {
            "text/plain": [
              "8111"
            ]
          },
          "metadata": {},
          "execution_count": 14
        }
      ]
    },
    {
      "cell_type": "code",
      "source": [
        "# Задание task_06_02_07.\n",
        "\n",
        "\n",
        "def foo(low, high):\n",
        "    \"\"\"!!!\n",
        "\n",
        "    Параметры:\n",
        "        - low (int): нижняя граница;\n",
        "        - high (int): верхняя граница.\n",
        "\n",
        "    Сложность: !!!.\n",
        "    \"\"\"\n",
        "    guessing = True                                      # O(1)\n",
        "    while guessing:                                      # O(N)\n",
        "        guess = (low + high) // 2                        # O(1) + O(1)\n",
        "        print(\"Загаданное число {0}?\".format(guess))     # O(1)\n",
        "        pointer = input(                                 \n",
        "            \"Введите '+', если Ваше число меньше.\\n\"\n",
        "            \"Введите '-' если Ваше число больше.\\n\"\n",
        "            \"Введите '=', если я угадал.\\n\").lower()     # O(1)\n",
        "        if pointer == \"+\":                               # O(1)\n",
        "            high = guess                                 # O(1)\n",
        "        elif pointer == \"-\":                             # O(1)\n",
        "            low = guess                                  # O(1)\n",
        "        elif pointer == \"=\":                             # O(1)\n",
        "            guessing = False                             # O(1)\n",
        "        else:                                            \n",
        "            print(\"Введите '+', '-' или '='.\")           # O(1)\n",
        "\n",
        "    return guess                                         # O(1)\n",
        "\n",
        "\n",
        "# ЗАКОММЕНТИРУЙТЕ этот код перед запуском проверки\n",
        "# low, high = 0, 100\n",
        "# print(\"Пожалуйста, загадайте число от {0} до {1}!\".format(low, high))\n",
        "# guess = foo(low, high)\n",
        "# print(\"Игра окончена, Вы загадали число: {0}.\".format(guess))\n",
        "\n",
        "# Алгоритм: Функция получает на входе числа верхней и нижней границ. Пытаясь\n",
        "# угадать задуманное человеком число, программа сначала находит среднее арифметическое\n",
        "# данных чисел, а затем, задавая конкретные вопросы находит задуманное число\n",
        "# и выводит его на экран.\n",
        "# Сложность: O(1) + O(N) * (O(1) + O(1) + O(1) + O(1)) + O(1) + O(1) + O(1)\n",
        "# + O(1) + O(1) + O(1) + O(1) + O(1) = O(N)\n",
        "\n",
        "low, high = 0, 100\n",
        "print(\"Пожалуйста, загадайте число от {0} до {1}!\".format(low, high))\n",
        "guess = foo(low, high)\n",
        "print(\"Игра окончена, Вы загадали число: {0}.\".format(guess))"
      ],
      "metadata": {
        "colab": {
          "base_uri": "https://localhost:8080/"
        },
        "id": "LTOFBnQQAwn6",
        "outputId": "ac2eaab6-a50b-46f9-a26f-94715fd8bbd8"
      },
      "execution_count": null,
      "outputs": [
        {
          "output_type": "stream",
          "name": "stdout",
          "text": [
            "Пожалуйста, загадайте число от 0 до 100!\n",
            "Загаданное число 50?\n",
            "Введите '+', если Ваше число меньше.\n",
            "Введите '-' если Ваше число больше.\n",
            "Введите '=', если я угадал.\n",
            "8\n",
            "Введите '+', '-' или '='.\n",
            "Загаданное число 50?\n",
            "Введите '+', если Ваше число меньше.\n",
            "Введите '-' если Ваше число больше.\n",
            "Введите '=', если я угадал.\n",
            "+\n",
            "Загаданное число 25?\n",
            "Введите '+', если Ваше число меньше.\n",
            "Введите '-' если Ваше число больше.\n",
            "Введите '=', если я угадал.\n",
            "+\n",
            "Загаданное число 12?\n",
            "Введите '+', если Ваше число меньше.\n",
            "Введите '-' если Ваше число больше.\n",
            "Введите '=', если я угадал.\n",
            "+\n",
            "Загаданное число 6?\n",
            "Введите '+', если Ваше число меньше.\n",
            "Введите '-' если Ваше число больше.\n",
            "Введите '=', если я угадал.\n",
            "+\n",
            "Загаданное число 3?\n",
            "Введите '+', если Ваше число меньше.\n",
            "Введите '-' если Ваше число больше.\n",
            "Введите '=', если я угадал.\n",
            "-\n",
            "Загаданное число 4?\n",
            "Введите '+', если Ваше число меньше.\n",
            "Введите '-' если Ваше число больше.\n",
            "Введите '=', если я угадал.\n",
            "-\n",
            "Загаданное число 5?\n"
          ]
        }
      ]
    }
  ]
}