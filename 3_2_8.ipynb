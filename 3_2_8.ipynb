{
  "nbformat": 4,
  "nbformat_minor": 0,
  "metadata": {
    "colab": {
      "provenance": [],
      "authorship_tag": "ABX9TyMc/x/Phd9T3365rOjZ8You",
      "include_colab_link": true
    },
    "kernelspec": {
      "name": "python3",
      "display_name": "Python 3"
    },
    "language_info": {
      "name": "python"
    }
  },
  "cells": [
    {
      "cell_type": "markdown",
      "metadata": {
        "id": "view-in-github",
        "colab_type": "text"
      },
      "source": [
        "<a href=\"https://colab.research.google.com/github/Prishletsova/Osnovy_programming/blob/main/3_2_8.ipynb\" target=\"_parent\"><img src=\"https://colab.research.google.com/assets/colab-badge.svg\" alt=\"Open In Colab\"/></a>"
      ]
    },
    {
      "cell_type": "markdown",
      "source": [
        "№ 3.2.8\n",
        "\n",
        "Составьте программу, которая запрашивает название государства и его столицы, а затем выводит сообщение:\n",
        "\n",
        "Государство - ..., столица - ...\n",
        "На месте многоточий должны быть выведены соответствующие значения."
      ],
      "metadata": {
        "id": "te0Pxt6yUjZ8"
      }
    },
    {
      "cell_type": "code",
      "source": [
        "# Программирование на языке высокого уровня (Python).\n",
        "# https://www.yuripetrov.ru/edu/python\n",
        "# Задание task_03_02_08.\n",
        "#\n",
        "# Выполнил: Пришлецова К.С.\n",
        "# Группа: АДЭУ-221\n",
        "# E-mail: greypurplenails78@gmail.com\n",
        "\n",
        "\n",
        "# Название государства\n",
        "country = input(\"Введите название государства: \")\n",
        "# Название столицы\n",
        "capital = input(\"Введите название столицы: \")\n",
        "\n",
        "print(\"Государство - {},\".format(country), \"столица - {}\".format(capital))\n",
        "\n",
        "\n",
        "# --------------\n",
        "# Пример вывода:\n",
        "#\n",
        "# Введите название государства: Россия\n",
        "# Введите название столицы: Москва\n",
        "# Государство - Россия, столица - Москва\n",
        "\n"
      ],
      "metadata": {
        "colab": {
          "base_uri": "https://localhost:8080/"
        },
        "id": "0tYs3R4NUnaK",
        "outputId": "08f0db38-cf95-413e-bf2a-e794fee46e95"
      },
      "execution_count": 4,
      "outputs": [
        {
          "output_type": "stream",
          "name": "stdout",
          "text": [
            "Введите название государства: Россия\n",
            "Введите название столицы: Москва\n",
            "Государство - Россия, столица - Москва\n"
          ]
        }
      ]
    }
  ]
}