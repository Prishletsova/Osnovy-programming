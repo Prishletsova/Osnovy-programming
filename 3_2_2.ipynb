{
  "nbformat": 4,
  "nbformat_minor": 0,
  "metadata": {
    "colab": {
      "provenance": [],
      "authorship_tag": "ABX9TyNlWiak/jHzjS9+K9FcNGwb",
      "include_colab_link": true
    },
    "kernelspec": {
      "name": "python3",
      "display_name": "Python 3"
    },
    "language_info": {
      "name": "python"
    }
  },
  "cells": [
    {
      "cell_type": "markdown",
      "metadata": {
        "id": "view-in-github",
        "colab_type": "text"
      },
      "source": [
        "<a href=\"https://colab.research.google.com/github/Prishletsova/Osnovy_programming/blob/main/3_2_2.ipynb\" target=\"_parent\"><img src=\"https://colab.research.google.com/assets/colab-badge.svg\" alt=\"Open In Colab\"/></a>"
      ]
    },
    {
      "cell_type": "markdown",
      "source": [
        "№ 3.2.2\n",
        "\n",
        "Вычислите значение следующего выражения (аргументы - целые числа и вводятся с клавиатуры): ![image.png](data:image/png;base64,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)\n",
        "Округлите результат до 3-х знаков после запятой, используя функцию round()."
      ],
      "metadata": {
        "id": "ycOptSoSjmRd"
      }
    },
    {
      "cell_type": "code",
      "source": [
        "# Программирование на языке высокого уровня (Python).\n",
        "# https://www.yuripetrov.ru/edu/python\n",
        "# Задание task_03_02_02.\n",
        "#\n",
        "# Выполнил: Пришлецова К. С.\n",
        "# Группа: АДЭУ-221\n",
        "# E-mail: greypurplenails78@gmail.com\n",
        "\n",
        "\n",
        "x = int(input(\"x=\"))\n",
        "y = int(input(\"y=\"))\n",
        "z = int(input(\"z=\"))\n",
        "\n",
        "res =((x**5+7)/abs(-6)*y)**(1/3)/(7-z%y)\n",
        "\n",
        "print(round(res, 2))\n",
        "\n",
        "\n",
        "# --------------\n",
        "# Пример вывода:\n",
        "#\n",
        "# x=0\n",
        "# y=1\n",
        "# z=2\n",
        "# 0.15\n",
        "\n"
      ],
      "metadata": {
        "colab": {
          "base_uri": "https://localhost:8080/"
        },
        "id": "4vExkdCfj8kp",
        "outputId": "e08abd30-5606-4d45-9590-cfc9c372b760"
      },
      "execution_count": 5,
      "outputs": [
        {
          "output_type": "stream",
          "name": "stdout",
          "text": [
            "x=0\n",
            "y=1\n",
            "z=2\n",
            "0.15\n"
          ]
        }
      ]
    }
  ]
}