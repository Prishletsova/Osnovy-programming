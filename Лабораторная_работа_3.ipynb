{
  "nbformat": 4,
  "nbformat_minor": 0,
  "metadata": {
    "colab": {
      "provenance": [],
      "authorship_tag": "ABX9TyPSgFmU0otcz5yVfNN05NOs",
      "include_colab_link": true
    },
    "kernelspec": {
      "name": "python3",
      "display_name": "Python 3"
    },
    "language_info": {
      "name": "python"
    }
  },
  "cells": [
    {
      "cell_type": "markdown",
      "metadata": {
        "id": "view-in-github",
        "colab_type": "text"
      },
      "source": [
        "<a href=\"https://colab.research.google.com/github/Prishletsova/Osnovy_programming/blob/main/%D0%9B%D0%B0%D0%B1%D0%BE%D1%80%D0%B0%D1%82%D0%BE%D1%80%D0%BD%D0%B0%D1%8F_%D1%80%D0%B0%D0%B1%D0%BE%D1%82%D0%B0_3.ipynb\" target=\"_parent\"><img src=\"https://colab.research.google.com/assets/colab-badge.svg\" alt=\"Open In Colab\"/></a>"
      ]
    },
    {
      "cell_type": "markdown",
      "source": [
        "№ 3.2.1\n",
        "\n",
        "Составьте программу, которая запрашивает у пользователя 2 целых числа и выполняет операции:\n",
        "\n",
        "арифметические: +, -, * , / , // , %, **;\n",
        "\n",
        "сравнение: <, <=, >, >=, !=, ==,\n",
        "\n",
        "выводя на экран результат каждого действия. В случае получение вещественного результата, округлите его до 2-х знаков после запятой (используя функцию round())."
      ],
      "metadata": {
        "id": "jw2WT9M9QbdW"
      }
    },
    {
      "cell_type": "code",
      "execution_count": null,
      "metadata": {
        "colab": {
          "base_uri": "https://localhost:8080/"
        },
        "id": "pvd3IBM2QReC",
        "outputId": "1cb35e33-8e22-4de5-f2ba-7ebcc4e596e2"
      },
      "outputs": [
        {
          "output_type": "stream",
          "name": "stdout",
          "text": [
            "a=2\n",
            "b=3\n",
            "5\n",
            "-1\n",
            "6\n",
            "0.67\n",
            "0\n",
            "2\n",
            "8\n",
            "True\n",
            "True\n",
            "False\n",
            "False\n",
            "True\n",
            "False\n"
          ]
        }
      ],
      "source": [
        "# Программирование на языке высокого уровня (Python).\n",
        "# https://www.yuripetrov.ru/edu/python\n",
        "# Задание task_03_02_01.\n",
        "#\n",
        "# Выполнил: Пришлецова К. С.\n",
        "# Группа: АДЭУ-221\n",
        "# E-mail: greypurplenails78@gmail.com\n",
        "\n",
        "\n",
        "a = int(input(\"a=\"))\n",
        "b = int(input(\"b=\"))\n",
        "\n",
        "print(a + b)\n",
        "print(a - b)\n",
        "print(a * b)\n",
        "print(round(a / b, 2))\n",
        "print(a // b)\n",
        "print(a % b)\n",
        "print(a ** b)\n",
        "\n",
        "print(a < b)\n",
        "print(a <= b)\n",
        "print(a > b)\n",
        "print(a >= b)\n",
        "print(a != b)\n",
        "print(a == b)\n",
        "\n",
        "\n",
        "# --------------\n",
        "# Пример вывода:\n",
        "#\n",
        "# a=2\n",
        "# b=3\n",
        "# 5\n",
        "# -1\n",
        "# 6\n",
        "# 0.67\n",
        "# 0\n",
        "# 2\n",
        "# 8\n",
        "# True\n",
        "# True\n",
        "# False\n",
        "# False\n",
        "# True\n",
        "# False\n"
      ]
    },
    {
      "cell_type": "markdown",
      "source": [
        "№ 3.2.2\n",
        "\n",
        "Вычислите значение следующего выражения ![image.png](data:image/png;base64,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) (аргументы - целые числа и вводятся с клавиатуры): image.png Округлите результат до 3-х знаков после запятой, используя функцию round()."
      ],
      "metadata": {
        "id": "CY5a_qNaQsYv"
      }
    },
    {
      "cell_type": "code",
      "source": [
        "# Программирование на языке высокого уровня (Python).\n",
        "# https://www.yuripetrov.ru/edu/python\n",
        "# Задание task_03_02_02.\n",
        "#\n",
        "# Выполнил: Пришлецова К. С.\n",
        "# Группа: АДЭУ-221\n",
        "# E-mail: greypurplenails78@gmail.com\n",
        "\n",
        "\n",
        "x = int(input(\"x=\"))\n",
        "y = int(input(\"y=\"))\n",
        "z = int(input(\"z=\"))\n",
        "\n",
        "res =((x**5+7)/abs(-6)*y)**(1/3)/(7-z%y)\n",
        "\n",
        "print(round(res, 2))\n",
        "\n",
        "\n",
        "# --------------\n",
        "# Пример вывода:\n",
        "#\n",
        "# x=0\n",
        "# y=1\n",
        "# z=2\n",
        "# 0.15\n",
        "\n"
      ],
      "metadata": {
        "colab": {
          "base_uri": "https://localhost:8080/"
        },
        "id": "TRFJObwMQ-6G",
        "outputId": "22d8990c-9b62-4b46-e754-91adb31ffa15"
      },
      "execution_count": null,
      "outputs": [
        {
          "output_type": "stream",
          "name": "stdout",
          "text": [
            "x=0\n",
            "y=1\n",
            "z=2\n",
            "0.15\n"
          ]
        }
      ]
    },
    {
      "cell_type": "markdown",
      "source": [
        "№ 3.2.3 \n",
        "\n",
        "Дана электрическая цепь, состоящая из 2-х последовательно соединенных проводников (сопротивление каждого известно). Найти общее сопротивление цепи (округление результата необходимо выполнить до 1-го знака после запятой).\n",
        "\n",
        "Решение (начало и общий ход мыслей):\n",
        "\n",
        "Аналитическое решение.\n",
        "\n",
        "Проводники соединены последовательно, поэтому общее сопротивление цепи будет равно сумме их сопротивлений. Сопротивление может быть вещественным числом, поэтому для его хранения необходимо выбрать тип float.\n",
        "\n",
        "Алгоритм.\n",
        "\n",
        "ввести 2 вещественных значения - сопротивления проводников;\n",
        "вычислить их сумму;\n",
        "вывести ответ на экран.\n",
        "Программа.\n",
        "\n",
        "здесь должна быть программа"
      ],
      "metadata": {
        "id": "rWLBCEQBRHz0"
      }
    },
    {
      "cell_type": "code",
      "source": [
        "# Программирование на языке высокого уровня (Python).\n",
        "# https://www.yuripetrov.ru/edu/python\n",
        "# Задание task_03_02_03.\n",
        "#\n",
        "# Выполнил: Пришлецова К. С.\n",
        "# Группа: АДЭУ-221\n",
        "# E-mail: greypurplenails78@gmail.com\n",
        "\n",
        "\n",
        "r1 = float(input(\"r1=\"))\n",
        "r2 = float(input(\"r2=\"))\n",
        "\n",
        "r = (r1 + r2)\n",
        "\n",
        "print(round(r, 1))\n",
        "\n",
        "\n",
        "# --------------\n",
        "# Пример вывода:\n",
        "#\n",
        "# r1=12.2\n",
        "# r2=16.1\n",
        "# 28.3\n",
        "\n"
      ],
      "metadata": {
        "colab": {
          "base_uri": "https://localhost:8080/"
        },
        "id": "_mEQOb08RQAJ",
        "outputId": "a234e0fd-d4e4-4b7b-f120-074ae4763e2d"
      },
      "execution_count": null,
      "outputs": [
        {
          "output_type": "stream",
          "name": "stdout",
          "text": [
            "r1=12.2\n",
            "r2=16.1\n",
            "28.3\n"
          ]
        }
      ]
    },
    {
      "cell_type": "markdown",
      "source": [
        "№ 3.2.4\n",
        "Дано двузначное и трехзначное число. Для каждого выведите на экран сумму и произведение цифр."
      ],
      "metadata": {
        "id": "EkML9C2KRb5U"
      }
    },
    {
      "cell_type": "code",
      "source": [
        "# Программирование на языке высокого уровня (Python).\n",
        "# https://www.yuripetrov.ru/edu/python\n",
        "# Задание task_03_02_04.\n",
        "#\n",
        "# Выполнил: Пришлецова К. С.\n",
        "# Группа: АДЭУ-221\n",
        "# E-mail: greypurplenails78@gmail.com\n",
        "\n",
        "\n",
        "# Двузначное число\n",
        "num2 = int(input(\"Двузначное число: \"))\n",
        "# Трехзначное число\n",
        "num3 = int(input(\"Трехзначное число: \"))\n",
        "\n",
        "# 1-я цифра числа 'num2'\n",
        "num2_1 = (num2//10)\n",
        "# 2-я цифра числа 'num2'\n",
        "num2_2 = (num2%10)\n",
        "\n",
        "# Сумма цифр числа 'num2'\n",
        "num2_s = (num2_1 + num2_2)\n",
        "# Произведение цифр числа 'num2'\n",
        "num2_p = (num2_1 * num2_2)\n",
        "\n",
        "# 1-я цифра числа 'num3'\n",
        "num3_1 = (num3//100)\n",
        "# 2-я цифра числа 'num3'\n",
        "num3_2 = ((num3%100)//10)\n",
        "# 3-я цифра числа 'num3'\n",
        "num3_3 = (num3%10)\n",
        "\n",
        "# Сумма цифр числа 'num3'\n",
        "num3_s = (num3_1 + num3_2 + num3_3)\n",
        "# Произведение цифр числа 'num3'\n",
        "num3_p = (num3_1 * num3_2 * num3_3)\n",
        "\n",
        "# Вывод результата\n",
        "print(\"Сумма и произведение цифр двузначного числа:\", (num2_s), (num2_p)) \n",
        "print(\"Сумма и произведение цифр трехзначного числа:\", (num3_s), (num3_p))\n",
        "\n",
        "\n",
        "# --------------\n",
        "# Пример вывода:\n",
        "#\n",
        "# Двузначное число: 45\n",
        "# Трехзначное число: 456\n",
        "# Сумма и произведение цифр двузначного числа: 9 20\n",
        "# Сумма и произведение цифр трехзначного числа: 15 120\n"
      ],
      "metadata": {
        "colab": {
          "base_uri": "https://localhost:8080/"
        },
        "id": "rhdCroBoRctV",
        "outputId": "cb8cba6f-f22d-40ff-d28e-648547e9744b"
      },
      "execution_count": null,
      "outputs": [
        {
          "output_type": "stream",
          "name": "stdout",
          "text": [
            "Двузначное число: 45\n",
            "Трехзначное число: 456\n",
            "Сумма и произведение цифр двузначного числа: 9 20\n",
            "Сумма и произведение цифр трехзначного числа: 15 120\n"
          ]
        }
      ]
    },
    {
      "cell_type": "markdown",
      "source": [
        "№ 3.2.5\n",
        "\n",
        "С начала суток прошло m минут (0<m≤24∗60). Определите:\n",
        "\n",
        "целое количество часов, прошедших с начала суток;\n",
        "\n",
        "количество минут, прошедших с момента начала последнего часа."
      ],
      "metadata": {
        "id": "42jHBMt2RjO7"
      }
    },
    {
      "cell_type": "code",
      "source": [
        "# Программирование на языке высокого уровня (Python).\n",
        "# https://www.yuripetrov.ru/edu/python\n",
        "# Задание task_03_02_05.\n",
        "#\n",
        "# Выполнил: Пришлецова К. С.\n",
        "# Группа: АДЭУ-221\n",
        "# E-mail: greypurplenails78@gmail.com\n",
        "\n",
        "\n",
        "# Количество минут\n",
        "m = int(input(\"Количество минут, прошедшее с начала суток: \"))\n",
        "# Количество часов, прошедших с начала суток\n",
        "h = (m//60)\n",
        "# Количество минут, прошедших с момента начала последнего часа\n",
        "m2 = (m-60*h)\n",
        "\n",
        "print(\"Количество часов, прошедших с начала суток:\", h)\n",
        "print(\"Количество минут, прошедших с момента начала последнего часа:\", m2)\n",
        "\n",
        "# --------------\n",
        "# Пример вывода:\n",
        "#\n",
        "# Количество минут, прошедшее с начала суток: 123\n",
        "# Количество часов, прошедших с начала суток: 2\n",
        "# Количество минут, прошедших с момента начала последнего часа: 3\n",
        "\n"
      ],
      "metadata": {
        "id": "eXjrdKMLRpHC",
        "colab": {
          "base_uri": "https://localhost:8080/"
        },
        "outputId": "ec012a09-c513-4653-e089-f451cb37d5cb"
      },
      "execution_count": 1,
      "outputs": [
        {
          "output_type": "stream",
          "name": "stdout",
          "text": [
            "Количество минут, прошедшее с начала суток: 123\n",
            "Количество часов, прошедших с начала суток: 2\n",
            "Количество минут, прошедших с момента начала последнего часа: 3\n"
          ]
        }
      ]
    },
    {
      "cell_type": "markdown",
      "source": [
        "№ 3.2.6\n",
        "\n",
        "Дано уравнение ax + b = 0 и отрезок [m;n]. Ответьте на вопрос, попадает ли решение уравнения в указанный отрезок.\n",
        "\n",
        "Решение (начало и общий ход мыслей):\n",
        "\n",
        "Аналитическое решение.\n",
        "\n",
        "Коэффициенты уравнения и величина отрезка - произвольны, возьмем целые числа. Решение x при этом может быть дробным. После определения x составим логическое выражение попадания в отрезок, что и будет ответом.\n",
        "\n",
        "Алгоритм.\n",
        "\n",
        "- ввести все неизвестные величины;\n",
        "- определить корень уравнения;\n",
        "- составить логическое выражение попадания корня в область;\n",
        "- вывести результат попадания на экран.\n",
        "\n",
        "Программа.\n",
        "\n",
        "# здесь должна быть программа"
      ],
      "metadata": {
        "id": "jTktyTx5ZHC_"
      }
    },
    {
      "cell_type": "code",
      "source": [
        "# Программирование на языке высокого уровня (Python).\n",
        "# https://www.yuripetrov.ru/edu/python\n",
        "# Задание task_03_02_06.\n",
        "#\n",
        "# Выполнил: Пришлецова К. С.\n",
        "# Группа: АДЭУ-221\n",
        "# E-mail: greypurplenails78@gmail.com\n",
        "\n",
        "\n",
        "a = int(input(\"Введите a = \"))\n",
        "b = int(input(\"Введите b = \"))\n",
        "m = int(input(\"Введите m = \"))\n",
        "n = int(input(\"Введите n = \"))\n",
        "\n",
        "x = -b / a\n",
        "\n",
        "is_ok = bool(m<x<n)\n",
        "\n",
        "print(\"Попадает:\", is_ok)\n",
        "\n",
        "\n",
        "# --------------\n",
        "# Пример вывода:\n",
        "#\n",
        "# Введите a = 1\n",
        "# Введите b = 2\n",
        "# Введите m = -5\n",
        "# Введите n = 5\n",
        "# Попадает: True\n",
        "\n"
      ],
      "metadata": {
        "colab": {
          "base_uri": "https://localhost:8080/"
        },
        "id": "d9jGe_jqZQJV",
        "outputId": "3b8f2949-7ec0-4114-c82b-972265af5d0b"
      },
      "execution_count": 2,
      "outputs": [
        {
          "output_type": "stream",
          "name": "stdout",
          "text": [
            "Введите a = 1\n",
            "Введите b = 2\n",
            "Введите m = -5\n",
            "Введите n = 5\n",
            "Попадает: True\n"
          ]
        }
      ]
    },
    {
      "cell_type": "markdown",
      "source": [
        "№ 3.2.7\n",
        "\n",
        "Составьте программу, которая запрашивает название футбольной команды и повторяет его на экране со словами\n",
        "\n",
        "... - чемпион!\n",
        "После этого выполните:\n",
        "\n",
        "используя операцию дублирования, нарисуйте черту (набор \"-\"), длиной, равной размеру названия команды;\n",
        "\n",
        "преобразуйте строку в нижний регистр и выведите на экран:\n",
        "\n",
        "длину наименования команды;\n",
        "\n",
        "есть ли в наименовании команды буква \"п\" (True/False)?\n",
        "\n",
        "сколько раз повторяется буква \"а\"?"
      ],
      "metadata": {
        "id": "DCAOe55mZZRC"
      }
    },
    {
      "cell_type": "code",
      "source": [
        "# Программирование на языке высокого уровня (Python).\n",
        "# https://www.yuripetrov.ru/edu/python\n",
        "# Задание task_03_02_07.\n",
        "#\n",
        "# Выполнил: Пришлецова К. С.\n",
        "# Группа: АДЭУ-221\n",
        "# E-mail: greypurplenails78@gmail.com\n",
        "\n",
        "\n",
        "team = input(\"Введите название команды: \")\n",
        "\n",
        "print(team, \"- чемпион!\")\n",
        "\n",
        "print(\"-\"*len(team))\n",
        "\n",
        "# Название команды в нижнем регистре\n",
        "team_lowercase = print(team.lower())\n",
        "print(\"Символов в названии команды:\",len(team))\n",
        "print(\"Буква п есть:\", bool(\"п\" in team))\n",
        "print(\"Количество букв а:\", team.find(\"а\"))\n",
        "\n",
        "\n",
        "# --------------\n",
        "# Пример вывода:\n",
        "#\n",
        "# Введите название команды: Спартак\n",
        "# Спартак - чемпион!\n",
        "# -------\n",
        "# Символов в названии команды: 7\n",
        "# Буква \"п\" есть: True\n",
        "# Количество букв \"а\": 2\n",
        "\n"
      ],
      "metadata": {
        "colab": {
          "base_uri": "https://localhost:8080/"
        },
        "id": "nsTrfy_1ZgEa",
        "outputId": "5842888d-e512-4b83-be71-4459cda3fa40"
      },
      "execution_count": 3,
      "outputs": [
        {
          "output_type": "stream",
          "name": "stdout",
          "text": [
            "Введите название команды: Спартак\n",
            "Спартак - чемпион!\n",
            "-------\n",
            "спартак\n",
            "Символов в названии команды: 7\n",
            "Буква п есть: True\n",
            "Количество букв а: 2\n"
          ]
        }
      ]
    },
    {
      "cell_type": "markdown",
      "source": [
        "№ 3.2.8\n",
        "\n",
        "Составьте программу, которая запрашивает название государства и его столицы, а затем выводит сообщение:\n",
        "\n",
        "Государство - ..., столица - ...\n",
        "На месте многоточий должны быть выведены соответствующие значения."
      ],
      "metadata": {
        "id": "s67rW2GpZpyq"
      }
    },
    {
      "cell_type": "code",
      "source": [
        "# Программирование на языке высокого уровня (Python).\n",
        "# https://www.yuripetrov.ru/edu/python\n",
        "# Задание task_03_02_08.\n",
        "#\n",
        "# Выполнил: Пришлецова К.С.\n",
        "# Группа: АДЭУ-221\n",
        "# E-mail: greypurplenails78@gmail.com\n",
        "\n",
        "\n",
        "# Название государства\n",
        "country = input(\"Введите название государства: \")\n",
        "# Название столицы\n",
        "capital = input(\"Введите название столицы: \")\n",
        "\n",
        "print(\"Государство - {},\".format(country), \"столица - {}\".format(capital))\n",
        "\n",
        "\n",
        "# --------------\n",
        "# Пример вывода:\n",
        "#\n",
        "# Введите название государства: Россия\n",
        "# Введите название столицы: Москва\n",
        "# Государство - Россия, столица - Москва\n"
      ],
      "metadata": {
        "colab": {
          "base_uri": "https://localhost:8080/"
        },
        "id": "jmL0xB04ZvVL",
        "outputId": "65355756-21db-4aba-cf9f-3a72d951af3f"
      },
      "execution_count": 4,
      "outputs": [
        {
          "output_type": "stream",
          "name": "stdout",
          "text": [
            "Введите название государства: Россия\n",
            "Введите название столицы: Москва\n",
            "Государство - Россия, столица - Москва\n"
          ]
        }
      ]
    }
  ]
}