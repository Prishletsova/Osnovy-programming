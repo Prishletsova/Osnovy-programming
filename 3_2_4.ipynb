{
  "nbformat": 4,
  "nbformat_minor": 0,
  "metadata": {
    "colab": {
      "provenance": [],
      "authorship_tag": "ABX9TyPteLJdnmQ31y7DR/NPNetI",
      "include_colab_link": true
    },
    "kernelspec": {
      "name": "python3",
      "display_name": "Python 3"
    },
    "language_info": {
      "name": "python"
    }
  },
  "cells": [
    {
      "cell_type": "markdown",
      "metadata": {
        "id": "view-in-github",
        "colab_type": "text"
      },
      "source": [
        "<a href=\"https://colab.research.google.com/github/Prishletsova/Osnovy_programming/blob/main/3_2_4.ipynb\" target=\"_parent\"><img src=\"https://colab.research.google.com/assets/colab-badge.svg\" alt=\"Open In Colab\"/></a>"
      ]
    },
    {
      "cell_type": "markdown",
      "source": [
        "№ 3.2.4\n",
        "\n",
        "Дано двузначное и трехзначное число. Для каждого выведите на экран сумму и произведение цифр."
      ],
      "metadata": {
        "id": "hmq1dGhS22-H"
      }
    },
    {
      "cell_type": "code",
      "source": [
        "# Программирование на языке высокого уровня (Python).\n",
        "# https://www.yuripetrov.ru/edu/python\n",
        "# Задание task_03_02_04.\n",
        "#\n",
        "# Выполнил: Пришлецова К. С.\n",
        "# Группа: АДЭУ-221\n",
        "# E-mail: greypurplenails78@gmail.com\n",
        "\n",
        "\n",
        "# Двузначное число\n",
        "num2 = int(input(\"Двузначное число: \"))\n",
        "# Трехзначное число\n",
        "num3 = int(input(\"Трехзначное число: \"))\n",
        "\n",
        "# 1-я цифра числа 'num2'\n",
        "num2_1 = (num2//10)\n",
        "# 2-я цифра числа 'num2'\n",
        "num2_2 = (num2%10)\n",
        "\n",
        "# Сумма цифр числа 'num2'\n",
        "num2_s = (num2_1 + num2_2)\n",
        "# Произведение цифр числа 'num2'\n",
        "num2_p = (num2_1 * num2_2)\n",
        "\n",
        "# 1-я цифра числа 'num3'\n",
        "num3_1 = (num3//100)\n",
        "# 2-я цифра числа 'num3'\n",
        "num3_2 = ((num3%100)//10)\n",
        "# 3-я цифра числа 'num3'\n",
        "num3_3 = (num3%10)\n",
        "\n",
        "# Сумма цифр числа 'num3'\n",
        "num3_s = (num3_1 + num3_2 + num3_3)\n",
        "# Произведение цифр числа 'num3'\n",
        "num3_p = (num3_1 * num3_2 * num3_3)\n",
        "\n",
        "# Вывод результата\n",
        "print(\"Сумма и произведение цифр двузначного числа:\", (num2_s), (num2_p)) \n",
        "print(\"Сумма и произведение цифр трехзначного числа:\", (num3_s), (num3_p))\n",
        "\n",
        "\n",
        "# --------------\n",
        "# Пример вывода:\n",
        "#\n",
        "# Двузначное число: 45\n",
        "# Трехзначное число: 456\n",
        "# Сумма и произведение цифр двузначного числа: 9 20\n",
        "# Сумма и произведение цифр трехзначного числа: 15 120\n"
      ],
      "metadata": {
        "colab": {
          "base_uri": "https://localhost:8080/"
        },
        "id": "lpZAQJnaWOAn",
        "outputId": "9b113d4f-e964-4fe6-dadf-cf4101507fba"
      },
      "execution_count": 20,
      "outputs": [
        {
          "output_type": "stream",
          "name": "stdout",
          "text": [
            "Двузначное число: 45\n",
            "Трехзначное число: 456\n",
            "Сумма и произведение цифр двузначного числа: 9 20\n",
            "Сумма и произведение цифр трехзначного числа: 15 120\n"
          ]
        }
      ]
    }
  ]
}