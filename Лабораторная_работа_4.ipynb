{
  "nbformat": 4,
  "nbformat_minor": 0,
  "metadata": {
    "colab": {
      "provenance": [],
      "authorship_tag": "ABX9TyNLc7vwWtu2K1Moq5b0h2HM",
      "include_colab_link": true
    },
    "kernelspec": {
      "name": "python3",
      "display_name": "Python 3"
    },
    "language_info": {
      "name": "python"
    }
  },
  "cells": [
    {
      "cell_type": "markdown",
      "metadata": {
        "id": "view-in-github",
        "colab_type": "text"
      },
      "source": [
        "<a href=\"https://colab.research.google.com/github/Prishletsova/Osnovy_programming/blob/main/%D0%9B%D0%B0%D0%B1%D0%BE%D1%80%D0%B0%D1%82%D0%BE%D1%80%D0%BD%D0%B0%D1%8F_%D1%80%D0%B0%D0%B1%D0%BE%D1%82%D0%B0_4.ipynb\" target=\"_parent\"><img src=\"https://colab.research.google.com/assets/colab-badge.svg\" alt=\"Open In Colab\"/></a>"
      ]
    },
    {
      "cell_type": "markdown",
      "source": [
        "№ 4.2.1\n",
        "\n",
        "Рассчитать значение f при заданном значении вещественного числа x:\n",
        "![image.png](data:image/png;base64,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)\n",
        "При выводе на экран оставьте 2 знака после запятой."
      ],
      "metadata": {
        "id": "d14oM4XbuhHj"
      }
    },
    {
      "cell_type": "code",
      "source": [
        "# Программирование на языке высокого уровня (Python).\n",
        "# https://www.yuripetrov.ru/edu/python\n",
        "# Задание task_04_02_01.\n",
        "#\n",
        "# Выполнил: Пришлецова К. С.\n",
        "# Группа: АДЭУ-221\n",
        "# E-mail: greypurplenails78@gmail.com\n",
        "\n",
        "\n",
        "x = float(input(\"Введите число x: \"))\n",
        "\n",
        "if x >= 0:\n",
        "  f = x**(1/2) + x**2\n",
        "else:\n",
        "    f = 1 / x\n",
        "\n",
        "print(\"f = {}\".format(round(f , 2)))\n",
        "\n",
        "print()\n",
        "\n",
        "x = float(input(\"Введите число x: \"))\n",
        "\n",
        "if x >= 0:\n",
        "  f = x**(1/2) + x**2\n",
        "else:\n",
        "    f = 1 / x\n",
        "\n",
        "print(\"f = {}\".format(round(f , 2)))\n",
        "\n",
        "print()\n",
        "\n",
        "x = float(input(\"Введите число x: \"))\n",
        "\n",
        "if x >= 0:\n",
        "  f = x**(1/2) + x**2\n",
        "else:\n",
        "    f = 1 / x\n",
        "\n",
        "print(\"f = {}\".format(round(f , 2)))\n",
        "# --------------\n",
        "# Пример вывода:\n",
        "#\n",
        "# Введите число x: -10\n",
        "# f = -0.10\n",
        "\n",
        "# Введите число x: 0\n",
        "# f = 0.00\n",
        "\n",
        "# Введите число x: 10\n",
        "# f = 103.16\n"
      ],
      "metadata": {
        "colab": {
          "base_uri": "https://localhost:8080/"
        },
        "id": "XsmzHulpuwWU",
        "outputId": "b9c214af-0643-40d1-faed-e229a349fb32"
      },
      "execution_count": null,
      "outputs": [
        {
          "output_type": "stream",
          "name": "stdout",
          "text": [
            "Введите число x: -10\n",
            "f = -0.1\n",
            "\n",
            "Введите число x: 0\n",
            "f = 0.0\n",
            "\n",
            "Введите число x: 10\n",
            "f = 103.16\n"
          ]
        }
      ]
    },
    {
      "cell_type": "markdown",
      "source": [
        "№ 4.2.2\n",
        "\n",
        "Определите максимальное и минимальное значения из двух различных целых чисел."
      ],
      "metadata": {
        "id": "TDZR7AVKzkEY"
      }
    },
    {
      "cell_type": "code",
      "source": [
        "# Программирование на языке высокого уровня (Python).\n",
        "# https://www.yuripetrov.ru/edu/python\n",
        "# Задание task_04_02_02.\n",
        "#\n",
        "# Выполнил: Пришлецова К. С.\n",
        "# Группа: АДЭУ-221\n",
        "# E-mail: greypurplenails78@gmail.com\n",
        "\n",
        "\n",
        "a1 = int(input(\"Введите первое число: \"))\n",
        "a2 = int(input(\"Введите второе число: \"))\n",
        "\n",
        "# Переменная 'a_min' должна содержать минимум, 'a_max' - максимум\n",
        "\n",
        "a_min = min(a1,a2)\n",
        "a_max = max(a1,a2)\n",
        "\n",
        "print(\"Максимум: {},\".format(a_max), \"минимум: {}\".format(a_min))\n",
        "print()\n",
        "\n",
        "a1 = int(input(\"Введите первое число: \"))\n",
        "a2 = int(input(\"Введите второе число: \"))\n",
        "\n",
        "# Переменная 'a_min' должна содержать минимум, 'a_max' - максимум\n",
        "\n",
        "a_min = min(a1,a2)\n",
        "a_max = max(a1,a2)\n",
        "\n",
        "print(\"Максимум: {},\".format(a_max), \"минимум: {}\".format(a_min))\n",
        "print()\n",
        "\n",
        "a1 = int(input(\"Введите первое число: \"))\n",
        "a2 = int(input(\"Введите второе число: \"))\n",
        "\n",
        "# Переменная 'a_min' должна содержать минимум, 'a_max' - максимум\n",
        "\n",
        "a_min = min(a1,a2)\n",
        "a_max = max(a1,a2)\n",
        "\n",
        "print(\"Максимум: {},\".format(a_max), \"минимум: {}\".format(a_min))\n",
        "\n",
        "# --------------\n",
        "# Пример вывода:\n",
        "#\n",
        "# Введите первое число: 1\n",
        "# Введите второе число: 2\n",
        "# Максимум: 2, минимум: 1\n",
        "\n",
        "# Введите первое число: 5\n",
        "# Введите второе число: 5\n",
        "# Максимум: 5, минимум: 5\n",
        "\n",
        "# Введите первое число: 100\n",
        "# Введите второе число: -1\n",
        "# Максимум: 100, минимум: -1\n"
      ],
      "metadata": {
        "colab": {
          "base_uri": "https://localhost:8080/"
        },
        "id": "4Q0rnjc4zovp",
        "outputId": "58f74adb-6746-4cae-951c-a44a664f8891"
      },
      "execution_count": null,
      "outputs": [
        {
          "output_type": "stream",
          "name": "stdout",
          "text": [
            "Введите первое число: 1\n",
            "Введите второе число: 2\n",
            "Максимум: 2, минимум: 1\n",
            "\n",
            "Введите первое число: 5\n",
            "Введите второе число: 5\n",
            "Максимум: 5, минимум: 5\n",
            "\n",
            "Введите первое число: 100\n",
            "Введите второе число: -1\n",
            "Максимум: 100, минимум: -1\n"
          ]
        }
      ]
    },
    {
      "cell_type": "markdown",
      "source": [
        "№ 4.2.3\n",
        "\n",
        "Вася пытается высунуть голову в форточку размерами a и b см. Приняв условно, что его голова - круглая диаметром d см, определите, сможет ли Вася сделать это. Для прохождения головы в форточку необходим зазор в 1 см. с каждой стороны.\n",
        "\n",
        "Все величины - целые числа."
      ],
      "metadata": {
        "id": "eM664C12bV9C"
      }
    },
    {
      "cell_type": "code",
      "source": [
        "# Программирование на языке высокого уровня (Python).\n",
        "# https://www.yuripetrov.ru/edu/python\n",
        "# Задание task_04_02_03.\n",
        "#\n",
        "# Выполнил: Пришлецова К. С.\n",
        "# Группа: АДЭУ-221\n",
        "# E-mail: greypurplenails78@gmail.com\n",
        "\n",
        "\n",
        "a = int(input(\"Ширина форточки: \"))\n",
        "b = int(input(\"Высота форточки: \"))\n",
        "d = int(input(\"Диаметр головы: \"))\n",
        "\n",
        "# Введенные числа должны быть положительными, если так - осуществляем\n",
        "# расчет, иначе выводим \"Проверьте ввод\"\n",
        "if a < 0:\n",
        "  if b < 0:\n",
        "    if d < 0:\n",
        "      print(\"Проверьте ввод\")\n",
        "\n",
        "if d + 1 > a:\n",
        "  if d +1 > b:\n",
        "    print(\"Нет\")\n",
        "else:\n",
        "  print(\"Да\")\n",
        "\n",
        "print()\n",
        "\n",
        "a = int(input(\"Ширина форточки: \"))\n",
        "b = int(input(\"Высота форточки: \"))\n",
        "d = int(input(\"Диаметр головы: \"))\n",
        "\n",
        "# Введенные числа должны быть положительными, если так - осуществляем\n",
        "# расчет, иначе выводим \"Проверьте ввод\"\n",
        "if a < 0:\n",
        "  if b < 0:\n",
        "    if d < 0:\n",
        "      print(\"Проверьте ввод\")\n",
        "\n",
        "if d + 1 > a:\n",
        "  if d +1 > b:\n",
        "    print(\"Нет\")\n",
        "else:\n",
        "  print(\"Да\")\n",
        "\n",
        "# --------------\n",
        "# Пример вывода:\n",
        "#\n",
        "# Ширина форточки: 5\n",
        "# Высота форточки: 6\n",
        "# Диаметр головы: 6\n",
        "# Нет\n",
        "\n",
        "# Ширина форточки: 6\n",
        "# Высота форточки: 7\n",
        "# Диаметр головы: 4\n",
        "# Да\n",
        "\n"
      ],
      "metadata": {
        "id": "7Y9bA6sRbfYT",
        "colab": {
          "base_uri": "https://localhost:8080/"
        },
        "outputId": "53b8f78d-ccfe-45cf-8bc7-6857d7e9dded"
      },
      "execution_count": null,
      "outputs": [
        {
          "output_type": "stream",
          "name": "stdout",
          "text": [
            "Ширина форточки: 5\n",
            "Высота форточки: 6\n",
            "Диаметр головы: 6\n",
            "Нет\n",
            "\n",
            "Ширина форточки: 6\n",
            "Высота форточки: 7\n",
            "Диаметр головы: 4\n",
            "Да\n"
          ]
        }
      ]
    },
    {
      "cell_type": "markdown",
      "source": [
        "№ 4.2.4\n",
        "\n",
        "Известны год и номер месяца сегодняшнего дня, а также год и номер месяца рождения человека (нумерация месяцев с 1: январь - 1 и т.д.). Определите возраст человека (число полных лет)."
      ],
      "metadata": {
        "id": "9NEueOfGiknL"
      }
    },
    {
      "cell_type": "code",
      "source": [
        "# Программирование на языке высокого уровня (Python).\n",
        "# https://www.yuripetrov.ru/edu/python\n",
        "# Задание task_04_02_04.\n",
        "#\n",
        "# Выполнил: Пришлецова К. С.\n",
        "# Группа: АДЭУ-221\n",
        "# E-mail: greypurplenails78@gmail.com\n",
        "\n",
        "\n",
        "year_today = int(input(\"Введите текущий год: \"))\n",
        "month_today = int(input(\"Введите текущий месяц: \"))\n",
        "\n",
        "year = int(input(\"Введите год рождения: \"))\n",
        "month = int(input(\"Введите месяц рождения: \"))\n",
        "\n",
        "god = year_today - year\n",
        "\n",
        "if month > month_today:\n",
        "  god -= 1\n",
        "age = god\n",
        "# Считается, введенные значения находятся в допустимых пределах,и\n",
        "# что 'month_today' >= 'month' (проверять значения не нужно)\n",
        "# Результат необходимо записать в переменную 'age'\n",
        "\n",
        "print(\"Число полных лет: \", age)\n",
        "\n",
        "print()\n",
        "\n",
        "year_today = int(input(\"Введите текущий год: \"))\n",
        "month_today = int(input(\"Введите текущий месяц: \"))\n",
        "\n",
        "year = int(input(\"Введите год рождения: \"))\n",
        "month = int(input(\"Введите месяц рождения: \"))\n",
        "\n",
        "god = year_today - year\n",
        "\n",
        "if month > month_today:\n",
        "  god -= 1\n",
        "age = god\n",
        "# Считается, введенные значения находятся в допустимых пределах,и\n",
        "# что 'month_today' >= 'month' (проверять значения не нужно)\n",
        "# Результат необходимо записать в переменную 'age'\n",
        "\n",
        "print(\"Число полных лет: \", age)\n",
        "\n",
        "print()\n",
        "\n",
        "year_today = int(input(\"Введите текущий год: \"))\n",
        "month_today = int(input(\"Введите текущий месяц: \"))\n",
        "\n",
        "year = int(input(\"Введите год рождения: \"))\n",
        "month = int(input(\"Введите месяц рождения: \"))\n",
        "\n",
        "god = year_today - year\n",
        "\n",
        "if month > month_today:\n",
        "  god -= 1\n",
        "age = god\n",
        "# Считается, введенные значения находятся в допустимых пределах,и\n",
        "# что 'month_today' >= 'month' (проверять значения не нужно)\n",
        "# Результат необходимо записать в переменную 'age'\n",
        "\n",
        "print(\"Число полных лет: \", age)\n",
        "\n",
        "# --------------\n",
        "# Пример вывода:\n",
        "#\n",
        "# Введите текущий год: 2017\n",
        "# Введите текущий месяц: 5\n",
        "# Введите год рождения: 2000\n",
        "# Введите месяц рождения: 1\n",
        "# Число полных лет:  17\n",
        "#\n",
        "# Введите текущий год: 2015\n",
        "# Введите текущий месяц: 6\n",
        "# Введите год рождения: 2010\n",
        "# Введите месяц рождения: 8\n",
        "# Число полных лет:  4\n",
        "#\n",
        "# Введите текущий год: 2020\n",
        "# Введите текущий месяц: 5\n",
        "# Введите год рождения: 2000\n",
        "# Введите месяц рождения: 5\n",
        "# Число полных лет:  20\n",
        "\n"
      ],
      "metadata": {
        "colab": {
          "base_uri": "https://localhost:8080/"
        },
        "id": "HoIH2u5NisWF",
        "outputId": "52ed5957-545c-417b-8877-e1f6c7711645"
      },
      "execution_count": null,
      "outputs": [
        {
          "output_type": "stream",
          "name": "stdout",
          "text": [
            "Введите текущий год: 2017\n",
            "Введите текущий месяц: 5\n",
            "Введите год рождения: 2000\n",
            "Введите месяц рождения: 1\n",
            "Число полных лет:  17\n",
            "\n",
            "Введите текущий год: 2015\n",
            "Введите текущий месяц: 6\n",
            "Введите год рождения: 2010\n",
            "Введите месяц рождения: 8\n",
            "Число полных лет:  4\n",
            "\n",
            "Введите текущий год: 2020\n",
            "Введите текущий месяц: 5\n",
            "Введите год рождения: 2000\n",
            "Введите месяц рождения: 5\n",
            "Число полных лет:  20\n"
          ]
        }
      ]
    },
    {
      "cell_type": "markdown",
      "source": [
        "№ 4.2.5\n",
        "\n",
        "Дана точка с целыми ненулевыми координатами (x;y). Определить номер четверти координатной плоскости, которой она принадлежит."
      ],
      "metadata": {
        "id": "rPhiFIRrl-5I"
      }
    },
    {
      "cell_type": "code",
      "source": [
        "# Программирование на языке высокого уровня (Python).\n",
        "# https://www.yuripetrov.ru/edu/python\n",
        "# Задание task_04_02_05.\n",
        "#\n",
        "# Выполнил: Пришлецова К. С.\n",
        "# Группа: АДЭУ-221\n",
        "# E-mail: greypurplenails78@gmail.com\n",
        "\n",
        "\n",
        "x = int(input(\"Введите координату x: \"))\n",
        "y = int(input(\"Введите координату y: \"))\n",
        "\n",
        "if x > 0 and y > 0:\n",
        "  print(\"1-я четверть\")\n",
        "elif x < 0 and y > 0:\n",
        "  print(\"2-я четверть\")\n",
        "elif x < 0 and y < 0:\n",
        "  print(\"3-я четверть\")\n",
        "elif x > 0 and y < 0:\n",
        "  -print(\"4-я четверть\")\n",
        "\n",
        "\n",
        "# --------------\n",
        "# Пример вывода:\n",
        "#\n",
        "# Введите координату x: 5\n",
        "# Введите координату y: 7\n",
        "# 1-я четверть\n",
        "\n"
      ],
      "metadata": {
        "id": "qaAE5ydimFOk",
        "colab": {
          "base_uri": "https://localhost:8080/"
        },
        "outputId": "cfd4a249-c653-443a-a0da-76d946f757bf"
      },
      "execution_count": null,
      "outputs": [
        {
          "output_type": "stream",
          "name": "stdout",
          "text": [
            "Введите координату x: 8\n",
            "Введите координату y: -4\n",
            "4-я четверть\n"
          ]
        }
      ]
    },
    {
      "cell_type": "markdown",
      "source": [
        "№ 4.2.6\n",
        "\n",
        "Даны вещественные числа a, b, c (a≠0).\n",
        "\n",
        "Решите уравнение ![image.png](data:image/png;base64,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) При выводе значений оставьте 1 знак после запятой."
      ],
      "metadata": {
        "id": "RNiAaJV5kyOT"
      }
    },
    {
      "cell_type": "code",
      "source": [
        "# Программирование на языке высокого уровня (Python).\n",
        "# https://www.yuripetrov.ru/edu/python\n",
        "# Задание task_04_02_06.\n",
        "#\n",
        "# Выполнил: Пришлецова К. С.\n",
        "# Группа: АДЭУ-221\n",
        "# E-mail: greypurplenails78@gmail.com\n",
        "\n",
        "\n",
        "a = float(input(\"a = \"))\n",
        "a != 0\n",
        "b = float(input(\"b = \"))\n",
        "c = float(input(\"c = \"))\n",
        "\n",
        "# Расчет дискриминанта\n",
        "D = (b**2)-4*a*c\n",
        "\n",
        "# Вывод решения в зависимости от значения дискриминанта\n",
        "# При выводе значений оставьте 1 знак после запятой\n",
        "if D > 0:\n",
        "  x1 = (-b+(D**(1/2)))/(2*a)\n",
        "  x2 = (-b-(D**(1/2)))/(2*a)\n",
        "  print(\"x1 = {},\".format(round(x1, 1)), \"x2 = {}\".format(round(x2, 1)))\n",
        "elif D == 0:\n",
        "  x = -b/(2*a)\n",
        "  print(\"x = {}\".format(round(x, 1)))\n",
        "elif D < 0:\n",
        "  print(\"Решений нет\")\n",
        "\n",
        "# --------------\n",
        "# Пример вывода:\n",
        "#\n",
        "# a = 1\n",
        "# b = 2\n",
        "# c = 3\n",
        "# Решений нет\n",
        "#\n",
        "# a = 1\n",
        "# b = 2\n",
        "# c = 1\n",
        "# x = -1.0\n",
        "#\n",
        "# a = 1\n",
        "# b = 3\n",
        "# c = -4\n",
        "# x1 = -4.0, x2 = 1.0\n"
      ],
      "metadata": {
        "colab": {
          "base_uri": "https://localhost:8080/"
        },
        "id": "cf19GKaDk5lE",
        "outputId": "3dc75fde-2bdf-48ca-aa70-10f4853fa58e"
      },
      "execution_count": null,
      "outputs": [
        {
          "output_type": "stream",
          "name": "stdout",
          "text": [
            "a = 1\n",
            "b = 3\n",
            "c = -4\n",
            "x1 = 1.0, x2 = -4.0\n"
          ]
        }
      ]
    },
    {
      "cell_type": "markdown",
      "source": [
        "**4.2.2. Цикл с условием**\n",
        "\n",
        "№ 4.2.7\n",
        "\n",
        "Дана непустая последовательность целых чисел, оканчивающаяся нулем. Найти сумму и количество введенных чисел."
      ],
      "metadata": {
        "id": "TNE8dnzT2WUi"
      }
    },
    {
      "cell_type": "code",
      "source": [
        "# Программирование на языке высокого уровня (Python).\n",
        "# https://www.yuripetrov.ru/edu/python\n",
        "# Задание task_04_02_07.\n",
        "#\n",
        "# Выполнил: Пришлецова К. С.\n",
        "# Группа: АДЭУ-221\n",
        "# E-mail: greypurplenails78@gmail.com\n",
        "\n",
        "\n",
        "nums_sum = 0  # сумма\n",
        "nums_count = 0  # количество\n",
        "\n",
        "n = 0\n",
        "v = 1\n",
        "x = int(input(\"Введите {}-е число: \".format(v)))\n",
        "\n",
        "while x != 0:\n",
        "  nums_sum += x\n",
        "  nums_count = n\n",
        "  n += 1\n",
        "  v += 1\n",
        "  x = int(input(\"Введите {}-е число: \".format(v)))\n",
        "\n",
        "print(\"Сумма = {}\".format(nums_sum))\n",
        "if nums_count != 0:\n",
        "  print(\"Количество = {}\".format(nums_count + 1))\n",
        "else:\n",
        "  print(\"Количество = {}\".format(nums_count))\n",
        "\n",
        "# --------------\n",
        "# Пример вывода:\n",
        "#\n",
        "# Введите 1-е число: 1\n",
        "# Введите 2-е число: 2\n",
        "# Введите 3-е число: 3\n",
        "# Введите 4-е число: 4\n",
        "# Введите 5-е число: 0\n",
        "# Сумма = 10\n",
        "# Количество = 4\n",
        "#\n",
        "# Введите 1-е число: 0\n",
        "# Сумма = 0\n",
        "# Количество = 0\n",
        "\n"
      ],
      "metadata": {
        "id": "BRq5tYTL2d1G",
        "colab": {
          "base_uri": "https://localhost:8080/"
        },
        "outputId": "87db6c8a-b59d-4200-ac16-0d4c58d39ea0"
      },
      "execution_count": null,
      "outputs": [
        {
          "output_type": "stream",
          "name": "stdout",
          "text": [
            "Введите 1-е число: 1\n",
            "Введите 2-е число: 2\n",
            "Введите 3-е число: 3\n",
            "Введите 4-е число: 4\n",
            "Введите 5-е число: 0\n",
            "Сумма = 10\n",
            "Количество = 4\n"
          ]
        }
      ]
    },
    {
      "cell_type": "markdown",
      "source": [
        "№ 4.2.8\n",
        "\n",
        "Дано число n. Из чисел 0,5,10,15,20,25,... напечатать те, которые не превышают n."
      ],
      "metadata": {
        "id": "B--WiLNLEI2H"
      }
    },
    {
      "cell_type": "code",
      "source": [
        "# Программирование на языке высокого уровня (Python).\n",
        "# https://www.yuripetrov.ru/edu/python\n",
        "# Задание task_04_02_08.\n",
        "#\n",
        "# Выполнил: Пришлецова К. С.\n",
        "# Группа: АДЭУ-221\n",
        "# E-mail: greypurplenails78@gmail.com\n",
        "\n",
        "\n",
        "n = int(input(\"n = \"))\n",
        "\n",
        "s = 0\n",
        "while n >= s:\n",
        "  print(s)\n",
        "  s += 5\n",
        "\n",
        "# --------------\n",
        "# Пример вывода:\n",
        "#\n",
        "# n = 0\n",
        "# 0\n",
        "#\n",
        "# n = 10\n",
        "# 0\n",
        "# 5\n",
        "# 10\n",
        "#\n",
        "# n = 12\n",
        "# 0\n",
        "# 5\n",
        "# 10\n",
        "\n"
      ],
      "metadata": {
        "colab": {
          "base_uri": "https://localhost:8080/"
        },
        "id": "QoAFJ5j4EP3C",
        "outputId": "ece713c0-c9e7-4238-d195-3ca8a8b25157"
      },
      "execution_count": null,
      "outputs": [
        {
          "output_type": "stream",
          "name": "stdout",
          "text": [
            "n = 125\n",
            "0\n",
            "5\n",
            "10\n",
            "15\n",
            "20\n",
            "25\n",
            "30\n",
            "35\n",
            "40\n",
            "45\n",
            "50\n",
            "55\n",
            "60\n",
            "65\n",
            "70\n",
            "75\n",
            "80\n",
            "85\n",
            "90\n",
            "95\n",
            "100\n",
            "105\n",
            "110\n",
            "115\n",
            "120\n",
            "125\n"
          ]
        }
      ]
    },
    {
      "cell_type": "markdown",
      "source": [
        "№ 4.2.9\n",
        "\n",
        "Дано вещественное число a. Найдите наименьшее натуральное n, для которого верно ![image.png](data:image/png;base64,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)"
      ],
      "metadata": {
        "id": "XQXdKIsPGtu-"
      }
    },
    {
      "cell_type": "code",
      "source": [
        "# Программирование на языке высокого уровня (Python).\n",
        "# https://www.yuripetrov.ru/edu/python\n",
        "# Задание task_04_02_09.\n",
        "#\n",
        "# Выполнил: Пришлецова К. С.\n",
        "# Группа: АДЭУ-221\n",
        "# E-mail: greypurplenails78@gmail.com\n",
        "\n",
        "\n",
        "a = float(input(\"a = \"))\n",
        "\n",
        "b = 1\n",
        "x_sum = 1\n",
        "\n",
        "while a >= x_sum:\n",
        "  b += 1\n",
        "  x_sum += (1/b)\n",
        "\n",
        "n = b\n",
        "print(\"n = {}\".format(n))\n",
        "\n",
        "\n",
        "\n",
        "# --------------\n",
        "# Пример вывода:\n",
        "#\n",
        "# a = 1.5\n",
        "# n = 3\n",
        "#\n",
        "# a = 2\n",
        "# n = 4\n",
        "\n"
      ],
      "metadata": {
        "id": "ieKycxkOG6YN",
        "colab": {
          "base_uri": "https://localhost:8080/"
        },
        "outputId": "95465a87-ef01-414f-e6a6-1cf7128f8c7d"
      },
      "execution_count": null,
      "outputs": [
        {
          "output_type": "stream",
          "name": "stdout",
          "text": [
            "a = 1.5\n",
            "n = 3\n"
          ]
        }
      ]
    },
    {
      "cell_type": "markdown",
      "source": [
        "№ 4.2.10     ООООООЧЕНЬ ДОЛГО ДУМАЛА \n",
        "\n",
        "Дано натуральное число. Определите сумму и количество его цифр."
      ],
      "metadata": {
        "id": "g-nVcRSM0rHI"
      }
    },
    {
      "cell_type": "code",
      "source": [
        "# Программирование на языке высокого уровня (Python).\n",
        "# https://www.yuripetrov.ru/edu/python\n",
        "# Задание task_04_02_10.\n",
        "#\n",
        "# Выполнил: Пришлецова К. С.\n",
        "# Группа: АДЭУ-221\n",
        "# E-mail: greypurplenails78@gmail.com\n",
        "\n",
        "\n",
        "n = int(input(\"n = \"))\n",
        "\n",
        "n_sum = 0\n",
        "n_count = 0\n",
        "\n",
        "while n%10 != 0 or n/10 != 0:\n",
        "  n_sum += (n%10)\n",
        "  n_count += 1\n",
        "  n = n//10\n",
        "\n",
        "print(\"Сумма =\", n_sum)\n",
        "print(\"Количество =\", n_count)\n",
        "\n",
        "\n",
        "# Удалите комментарий и допишите код\n",
        "\n",
        "# --------------\n",
        "# Пример вывода:\n",
        "#\n",
        "# n = 12345\n",
        "# Сумма = 15\n",
        "# Количество = 5\n",
        "\n"
      ],
      "metadata": {
        "colab": {
          "base_uri": "https://localhost:8080/"
        },
        "id": "EWWmFpbr0x94",
        "outputId": "688100bf-88ff-4949-b41d-b53435f4fdf1"
      },
      "execution_count": null,
      "outputs": [
        {
          "output_type": "stream",
          "name": "stdout",
          "text": [
            "n = 10307080\n",
            "Сумма = 19\n",
            "Количество = 8\n"
          ]
        }
      ]
    },
    {
      "cell_type": "markdown",
      "source": [
        "№ 4.2.11\n",
        "\n",
        "Вывести в строку 10 первых натуральных чисел, оканчивающихся на цифру k, кратных числу s и находящихся в интервале, левая граница которого равна start.  (?????????????)"
      ],
      "metadata": {
        "id": "Ax_nS-mH0U0S"
      }
    },
    {
      "cell_type": "code",
      "source": [
        "# Программирование на языке высокого уровня (Python).\n",
        "# https://www.yuripetrov.ru/edu/python\n",
        "# Задание task_04_02_11.\n",
        "#\n",
        "# Выполнил: Пришлецова К. С.\n",
        "# Группа: АДЭУ-221\n",
        "# E-mail: greypurplenails78@gmail.com\n",
        "\n",
        "\n",
        "start = int(input(\"start = \"))\n",
        "k = int(input(\"k = \"))\n",
        "s = int(input(\"s = \"))\n",
        "n_count = list()\n",
        "x = 10\n",
        "while x != 0:\n",
        "  if start%10 != k and start%s != 0:\n",
        "    while start%10 != k and start%s != 0:\n",
        "      start += 1\n",
        "  elif start%10 == k and start%s == 0:\n",
        "    n_count.append(start)\n",
        "    x -= 1   \n",
        "\n",
        "print(n_count) \n",
        "\n",
        "# --------------\n",
        "# Пример вывода:\n",
        "#\n",
        "# start = 100\n",
        "# k = 7\n",
        "# s = 9\n",
        "# 117 207 297 387 477 567 657 747 837 927\n"
      ],
      "metadata": {
        "id": "GHBnUeBY0ZB5"
      },
      "execution_count": null,
      "outputs": []
    },
    {
      "cell_type": "markdown",
      "source": [
        "**4.2.3. Совместный цикл (цикл по коллекциям)**\n",
        "\n",
        "№ 4.2.12\n",
        "\n",
        "Даны целые числа a и b (a может быть больше b). Напечатайте:\n",
        "\n",
        "числа от минимального до максимального в строчку (разделяя пробелом);\n",
        "\n",
        "числа от максимального до минимального «столбиком». (???????????)"
      ],
      "metadata": {
        "id": "khO3cpRcm6Mg"
      }
    },
    {
      "cell_type": "code",
      "source": [
        " # Программирование на языке высокого уровня (Python).\n",
        "# https://www.yuripetrov.ru/edu/python\n",
        "# Задание task_04_02_12.\n",
        "#\n",
        "# Выполнил:Пришлецова К. С.\n",
        "# Группа: АДЭУ-221\n",
        "# E-mail: greypurplenails@gmai.com\n",
        "\n",
        "\n",
        "a = int(input(\"a = \"))  \n",
        "b = int(input(\"b = \")) \n",
        "\n",
        "сccc = []\n",
        "\n",
        "if a > b:\n",
        "  for n in range(b, a+1):\n",
        "    print(n, end = \" \")\n",
        "    cccc.append(n)\n",
        "elif b > a:\n",
        "  for m in range(a, b+1):\n",
        "    print(m, end = \" \")\n",
        "    cccc.apend(m) \n",
        "\n",
        "print(reversed(c))\n",
        "\n",
        "\n",
        "\n",
        "# Удалите комментарий и допишите код\n",
        "\n",
        "# --------------\n",
        "# Пример вывода:\n",
        "#\n",
        "# a = 1\n",
        "# b = 5\n",
        "# 1 2 3 4 5\n",
        "# 5\n",
        "# 4\n",
        "# 3\n",
        "# 2\n",
        "# 1\n",
        "\n"
      ],
      "metadata": {
        "id": "YStnjkVynDTH"
      },
      "execution_count": null,
      "outputs": []
    },
    {
      "cell_type": "markdown",
      "source": [
        "№ 4.2.13\n",
        "\n",
        "Для введенных с клавиатуры положительных целых чисел a и b (a≤b) определите:\n",
        "\n",
        "сумму всех целых чисел от a до b;\n",
        "\n",
        "произведение всех целых чисел от a до b;\n",
        "\n",
        "среднее арифметическое всех целых чисел от a до b;\n",
        "\n",
        "среднее геометрическое нечетных чисел от a до b.\n",
        "\n",
        "Отрезок поиска включает сами числа a и b. При выводе вещественных результатов оставьте два знака после запятой."
      ],
      "metadata": {
        "id": "aeB0J7J_b_f1"
      }
    },
    {
      "cell_type": "code",
      "source": [
        "# Программирование на языке высокого уровня (Python).\n",
        "# https://www.yuripetrov.ru/edu/python\n",
        "# Задание task_04_02_13.\n",
        "#\n",
        "# Выполнил: Пришлецова К. С.\n",
        "# Группа: АДЭУ-221\n",
        "# E-mail: greypurplenails78@gmail.com\n",
        "\n",
        "\n",
        "a = int(input(\"a = \"))\n",
        "b = int(input(\"b = \"))\n",
        "\n",
        "a <= b\n",
        "\n",
        "n_sum = a\n",
        "for i in range(a+1, b+1):\n",
        "  n_sum += i\n",
        "\n",
        "n_mult = a\n",
        "for i in range(a+1, b+1):\n",
        "  n_mult *= i\n",
        "\n",
        "n_avg = n_sum/len(range(a, b+1))\n",
        "\n",
        "n_geom_sum = 1\n",
        "n = 0\n",
        "for i in range(a, b+1):\n",
        "  if i%2 != 0:\n",
        "    n_geom_sum *= i\n",
        "    n += 1\n",
        "\n",
        "n_avg_geom = n_geom_sum**(1/n) \n",
        "\n",
        "print(\"Сумма =\", n_sum)\n",
        "print(\"Произведение =\", n_mult)\n",
        "print(\"Среднее арифметическое = {}\".format(round(n_avg, 2)))\n",
        "print(\"Среднее геометрическое нечетных чисел = {}\".format(round(n_avg_geom, 2)))\n",
        "\n",
        "# --------------\n",
        "# Пример вывода:\n",
        "#\n",
        "# a = 1\n",
        "# b = 5\n",
        "# Сумма = 15\n",
        "# Произведение = 120\n",
        "# Среднее арифметическое = 3.00\n",
        "# Среднее геометрическое нечетных чисел = 2.47\n"
      ],
      "metadata": {
        "colab": {
          "base_uri": "https://localhost:8080/"
        },
        "id": "LGQRypO3Mjlu",
        "outputId": "26904b49-6ea2-4341-c46b-5ea3fa4edc72"
      },
      "execution_count": null,
      "outputs": [
        {
          "output_type": "stream",
          "name": "stdout",
          "text": [
            "a = 1\n",
            "b = 5\n",
            "Сумма = 15\n",
            "Произведение = 120\n",
            "Среднее арифметическое = 3.0\n",
            "Среднее геометрическое нечетных чисел = 2.47\n"
          ]
        }
      ]
    },
    {
      "cell_type": "markdown",
      "source": [
        "№ 4.2.14\n",
        "\n",
        "Начав тренировки, лыжник в первый день пробежал s км. (s>0, вещественное число). Каждый следующий день он увеличивал пробег на p % (0<p≤100, вещественное число) от пробега предыдущего дня. Определите:\n",
        "\n",
        "пробег лыжника за второй, третий, …, десятый день тренировок;\n",
        "\n",
        "какой суммарный путь он пробежал за первые 10 дней тренировок.\n",
        "\n",
        "При выводе вещественных результатов оставьте один знак после запятой."
      ],
      "metadata": {
        "id": "byKPSob2TrTA"
      }
    },
    {
      "cell_type": "code",
      "source": [
        "# Программирование на языке высокого уровня (Python).\n",
        "# https://www.yuripetrov.ru/edu/python\n",
        "# Задание task_04_02_14.\n",
        "#\n",
        "# Выполнил: Пришлецова К. С.\n",
        "# Группа: АДЭУ-221\n",
        "# E-mail: greypurplenails78@gmail.com\n",
        "\n",
        "\n",
        "s = float(input(\"Пробег за 1-й день (км.) = \"))\n",
        "s>0\n",
        "p = float(input(\"На сколько увеличивает пробег (%) = \"))\n",
        "0<p<=100\n",
        "\n",
        "total = s\n",
        "j = s\n",
        "\n",
        "for i in range(2, 11):\n",
        "  j += ((j*p)/100) \n",
        "  total += j\n",
        "  print(\"Пробег за {}-й день:\".format(i), \"{}\".format(round(j, 1)))\n",
        "\n",
        "print(\"Суммарный пробег: {:.1f} км.\".format(round(total, 1)))\n",
        "\n",
        "# --------------\n",
        "# Пример вывода:\n",
        "#\n",
        "# Пробег за 1-й день (км.) = 5\n",
        "# На сколько увеличивает пробег (%) = 10\n",
        "# Пробег за 2-й день: 5.5 км.\n",
        "# Пробег за 3-й день: 6.1 км.\n",
        "# Пробег за 4-й день: 6.7 км.\n",
        "# Пробег за 5-й день: 7.3 км.\n",
        "# Пробег за 6-й день: 8.1 км.\n",
        "# Пробег за 7-й день: 8.9 км.\n",
        "# Пробег за 8-й день: 9.7 км.\n",
        "# Пробег за 9-й день: 10.7 км.\n",
        "# Пробег за 10-й день: 11.8 км.\n",
        "# Суммарный пробег: 79.7 км.\n",
        "\n"
      ],
      "metadata": {
        "id": "UrId0WDWTwxT",
        "colab": {
          "base_uri": "https://localhost:8080/"
        },
        "outputId": "8385ece8-af8a-48ac-8525-ce6940fc4232"
      },
      "execution_count": null,
      "outputs": [
        {
          "output_type": "stream",
          "name": "stdout",
          "text": [
            "Пробег за 1-й день (км.) = 5\n",
            "На сколько увеличивает пробег (%) = 10\n",
            "Пробег за 2-й день: 5.5\n",
            "Пробег за 3-й день: 6.0\n",
            "Пробег за 4-й день: 6.7\n",
            "Пробег за 5-й день: 7.3\n",
            "Пробег за 6-й день: 8.1\n",
            "Пробег за 7-й день: 8.9\n",
            "Пробег за 8-й день: 9.7\n",
            "Пробег за 9-й день: 10.7\n",
            "Пробег за 10-й день: 11.8\n",
            "Суммарный пробег: 79.7 км.\n"
          ]
        }
      ]
    },
    {
      "cell_type": "markdown",
      "source": [
        "№ 4.2.15\n",
        "\n",
        "Известна масса каждого предмета в кг., загружаемого в грузовик. Определить, возможна ли перевозка груза, если грузоподъемность грузовика равна p кг."
      ],
      "metadata": {
        "id": "aUGw_gj58wRU"
      }
    },
    {
      "cell_type": "code",
      "source": [
        "# Программирование на языке высокого уровня (Python).\n",
        "# https://www.yuripetrov.ru/edu/python\n",
        "# Задание task_04_02_15.\n",
        "#\n",
        "# Выполнил: Пришлецова К. С.\n",
        "# Группа: АДЭУ-221\n",
        "# E-mail: greypurplenails78@gmail.com\n",
        "\n",
        "\n",
        "p = int(input(\"Грузоподъемность грузовика (кг.) = \"))\n",
        "n = int(input(\"Количество предметов = \"))\n",
        "\n",
        "total = 0\n",
        "\n",
        "for i in range(1, n+1):\n",
        "  f = int(input(\"Масса {}-го предмета (кг.) =\".format(i)))\n",
        "  total += f\n",
        "\n",
        "if total <= p:\n",
        "  print(\"Да\")\n",
        "else:\n",
        "  print(\"Нет\")\n",
        "\n",
        "# --------------\n",
        "# Пример вывода:\n",
        "#\n",
        "# Грузоподъемность грузовика (кг.) = 10\n",
        "# Количество предметов = 2\n",
        "# Масса 1-го предмета (кг.) = 3\n",
        "# Масса 2-го предмета (кг.) = 3\n",
        "# Да\n",
        "\n"
      ],
      "metadata": {
        "colab": {
          "base_uri": "https://localhost:8080/"
        },
        "id": "BgXWFcZe85h5",
        "outputId": "19c0ec19-7808-4ce4-959e-a136dfc5cbbb"
      },
      "execution_count": null,
      "outputs": [
        {
          "output_type": "stream",
          "name": "stdout",
          "text": [
            "Грузоподъемность грузовика (кг.) = 5\n",
            "Количество предметов = 2\n",
            "Масса 1-го предмета (кг.) =3\n",
            "Масса 2-го предмета (кг.) =3\n",
            "Нет\n"
          ]
        }
      ]
    },
    {
      "cell_type": "markdown",
      "source": [
        "№ 4.2.16\n",
        "\n",
        "В области несколько районов. Заданы площади, засеваемые пшеницей (га.), и средняя урожайность (ц/га) в каждом районе.\n",
        "\n",
        "Определите количество пшеницы, собранное по области. При выводе вещественных результатов оставьте один знак после запятой."
      ],
      "metadata": {
        "id": "DVfdsv16Aus8"
      }
    },
    {
      "cell_type": "code",
      "source": [
        "# Программирование на языке высокого уровня (Python).\n",
        "# https://www.yuripetrov.ru/edu/python\n",
        "# Задание task_04_02_16.\n",
        "#\n",
        "# Выполнил: Пришлецова К. С.\n",
        "# Группа: АДЭУ-221\n",
        "# E-mail: greypurplenails78@gmail.com\n",
        "\n",
        "\n",
        "n = int(input(\"Количество районов = \"))\n",
        "\n",
        "total = 0\n",
        "\n",
        "for i in range(1, n+1):\n",
        "  g = int(input(\"Площадь {}-го района (га) = \".format(i)))\n",
        "  v = int(input(\"Урожайность в {}-м районе (ц/га.) = \".format(i)))\n",
        "  total += g*v\n",
        "\n",
        "print(\"Собрано пшеницы:\", round(total, 1), \"ц.\")\n",
        "\n",
        "\n",
        "# --------------\n",
        "# Пример вывода:\n",
        "#\n",
        "# Количество районов = 3\n",
        "# Площадь 1-го района (га) = 4\n",
        "# Урожайность в 1-м районе (ц/га.) = 2\n",
        "# Площадь 2-го района (га) = 7\n",
        "# Урожайность в 2-м районе (ц/га.) = 3\n",
        "# Площадь 3-го района (га) = 9\n",
        "# Урожайность в 3-м районе (ц/га.) = 4\n",
        "# Собрано пшеницы: 65.0 ц.\n"
      ],
      "metadata": {
        "colab": {
          "base_uri": "https://localhost:8080/"
        },
        "id": "uxNut40xAzEO",
        "outputId": "fae86670-ffaf-4b9e-fbf8-7c261f97eb54"
      },
      "execution_count": null,
      "outputs": [
        {
          "output_type": "stream",
          "name": "stdout",
          "text": [
            "Количество районов = 6\n",
            "Площадь 1-го района (га) = 8\n",
            "Урожайность в 1-м районе (ц/га.) = 9\n",
            "Площадь 2-го района (га) = 5\n",
            "Урожайность в 2-м районе (ц/га.) = 4\n",
            "Площадь 3-го района (га) = 7\n",
            "Урожайность в 3-м районе (ц/га.) = 3\n",
            "Площадь 4-го района (га) = 7\n",
            "Урожайность в 4-м районе (ц/га.) = 6\n",
            "Площадь 5-го района (га) = 1\n",
            "Урожайность в 5-м районе (ц/га.) = 4\n",
            "Площадь 6-го района (га) = 6\n",
            "Урожайность в 6-м районе (ц/га.) = 6\n",
            "Собрано пшеницы: 195 ц.\n"
          ]
        }
      ]
    },
    {
      "cell_type": "markdown",
      "source": [
        "**4.2.4. Прерывание и продолжение циклов**\n",
        "\n",
        "№ 4.2.17\n",
        "\n",
        "Решите задачу № 4.2.7, организовав бесконечный цикл, который бы прерывался при выполнении условия, используя оператор break."
      ],
      "metadata": {
        "id": "z9XrkjOzEa-7"
      }
    },
    {
      "cell_type": "code",
      "source": [
        "# Программирование на языке высокого уровня (Python).\n",
        "# https://www.yuripetrov.ru/edu/python\n",
        "# Задание task_04_02_17.\n",
        "#\n",
        "# Выполнил: Пришлецова К. С.\n",
        "# Группа: АДЭУ-221\n",
        "# E-mail: greypurplenails78@gmail.com\n",
        "\n",
        "\n",
        "nums_sum = 0  # сумма\n",
        "nums_count = 0  # количество\n",
        "\n",
        "n = 0\n",
        "v = 1\n",
        "\n",
        "while True:\n",
        "  x = int(input(\"Введите {}-е число: \".format(v)))\n",
        "  nums_sum += x\n",
        "  nums_count = n\n",
        "  n += 1\n",
        "  v += 1\n",
        "  if x == 0:\n",
        "    break\n",
        "\n",
        "print(\"Сумма = {}\".format(nums_sum))\n",
        "print(\"Количество = {}\".format(nums_count))\n",
        "\n",
        "\n",
        "\n",
        "# --------------\n",
        "# Пример вывода:\n",
        "#\n",
        "# Введите 1-е число: 1\n",
        "# Введите 2-е число: 2\n",
        "# Введите 3-е число: 3\n",
        "# Введите 4-е число: 4\n",
        "# Введите 5-е число: 0\n",
        "# Сумма = 10\n",
        "# Количество = 4\n",
        "#\n",
        "# Введите 1-е число: 0\n",
        "# Сумма = 0\n",
        "# Количество = 0\n",
        "\n"
      ],
      "metadata": {
        "colab": {
          "base_uri": "https://localhost:8080/"
        },
        "id": "j9dv4cMZEhbh",
        "outputId": "60afb7da-96dd-4202-d98f-4fc526c7aec9"
      },
      "execution_count": null,
      "outputs": [
        {
          "output_type": "stream",
          "name": "stdout",
          "text": [
            "Введите 1-е число: 1\n",
            "Введите 2-е число: 2\n",
            "Введите 3-е число: 3\n",
            "Введите 4-е число: 7\n",
            "Введите 5-е число: 0\n",
            "Сумма = 13\n",
            "Количество = 4\n"
          ]
        }
      ]
    },
    {
      "cell_type": "markdown",
      "source": [
        "№ 4.2.18\n",
        "\n",
        "Предложение, введенное с клавиатуры, содержит слова из гласных и согласных букв кириллицы (регистр может быть различный), а также пробелы.\n",
        "\n",
        "Определите количество гласных и согласных букв в предложении. Для пропуска пробелов используйте оператор continue."
      ],
      "metadata": {
        "id": "0QQW3ApFOQ1T"
      }
    },
    {
      "cell_type": "code",
      "source": [
        "# Программирование на языке высокого уровня (Python).\n",
        "# https://www.yuripetrov.ru/edu/python\n",
        "# Задание task_04_02_18.\n",
        "#\n",
        "# Выполнил: Пришлецова К. С.\n",
        "# Группа: АДЭУ-221\n",
        "# E-mail: greypurplenails78@gmail.com\n",
        "\n",
        "\n",
        "sentence = input(\"Введите предложение: \")\n",
        "\n",
        "count_gl = 0  # Кол-во гласных\n",
        "count_sogl = 0  # Кол-во согласных\n",
        "probel = 0\n",
        "\n",
        "x = (\"у\", \"У\", \"Е\", \"е\", \"Ы\", \"ы\", \"А\", \"а\", \"О\", \"о\", \"Э\", \"э\", \"Я\", \"я\", \"И\", \"и\", \"Ю\", \"ю\")\n",
        "y = (\"й\", \"Й\", \"Ц\", \"ц\", \"К\", \"к\", \"Н\",\"н\", \"Г\", \"г\", \"ш\", \"Ш\", \"Щ\", \"щ\", \"З\", \"з\", \"Х\", \"х\",\"Ф\", \"ф\", \"В\", \"в\", \"П\", \"п\", \"Р\", \"р\", \"Л\", \"л\", \"Д\", \"д\", \"Ж\" \"ж\", \"Ч\", \"ч\", \"С\", \"с\", \"М\" \"м\", \"Т\" \"т\", \"б\", \"Б\")\n",
        "\n",
        "for i in sentence:\n",
        "  if i in x:\n",
        "    count_gl += 1\n",
        "  elif i == \" \":\n",
        "    probel += 1\n",
        "  else:\n",
        "    count_sogl += 1\n",
        "    continue\n",
        "\n",
        "print(\"Кол-во букв в предложении: гласных - {},\".format(count_gl), \"согласных - {}\".format(count_sogl))\n",
        "\n",
        "\n",
        "# --------------\n",
        "# Пример вывода:\n",
        "#\n",
        "# Введите предложение: Программирование\n",
        "# Кол-во букв в предложении: гласных - 7, согласных - 9\n"
      ],
      "metadata": {
        "colab": {
          "base_uri": "https://localhost:8080/"
        },
        "id": "EB_sDw8ZOUpJ",
        "outputId": "c54e1ef2-9f01-4f09-ba84-f64f40cf7134"
      },
      "execution_count": null,
      "outputs": [
        {
          "output_type": "stream",
          "name": "stdout",
          "text": [
            "Введите предложение: Программирование\n",
            "Кол-во букв в предложении: гласных - 7, согласных - 9\n"
          ]
        }
      ]
    },
    {
      "cell_type": "markdown",
      "source": [
        "4.2.5. Комбинация циклов и условий\n",
        "\n",
        "№ 4.2.19\n",
        "\n",
        "Выведите на экран (в строку) все целые числа от a до b, кратные некоторому числу c."
      ],
      "metadata": {
        "id": "tbQ3y2UqZ1Zt"
      }
    },
    {
      "cell_type": "code",
      "source": [
        "# Программирование на языке высокого уровня (Python).\n",
        "# https://www.yuripetrov.ru/edu/python\n",
        "# Задание task_04_02_19.\n",
        "#\n",
        "# Выполнил: Пришлецова К. С.\n",
        "# Группа: АДЭУ-221\n",
        "# E-mail: greypurplenails@gmail.com\n",
        "\n",
        "\n",
        "a = int(input(\"a = \"))\n",
        "b = int(input(\"b = \"))\n",
        "c = int(input(\"c = \"))\n",
        "\n",
        "for i in range(a, b+1):\n",
        "  if i%c == 0:\n",
        "    print(i, end = \" \")\n",
        "\n",
        "# --------------\n",
        "# Пример вывода:\n",
        "#\n",
        "# a = 1\n",
        "# b = 10\n",
        "# c = 2\n",
        "# 2 4 6 8 10\n",
        "\n"
      ],
      "metadata": {
        "id": "egAiviO6Z124",
        "colab": {
          "base_uri": "https://localhost:8080/"
        },
        "outputId": "c42ed4f4-52a4-46d0-818b-72e7bd991bf2"
      },
      "execution_count": null,
      "outputs": [
        {
          "output_type": "stream",
          "name": "stdout",
          "text": [
            "a = 1\n",
            "b = 10\n",
            "c = 2\n",
            "2 4 6 8 10 "
          ]
        }
      ]
    },
    {
      "cell_type": "markdown",
      "source": [
        "№ 4.2.20\n",
        "\n",
        "Выведите на экран (в строку) все трехзначные натуральные числа, сумма цифр которых равна целому числу n (0<n≤27)."
      ],
      "metadata": {
        "id": "Zw89PtYt1m2l"
      }
    },
    {
      "cell_type": "code",
      "source": [
        "# Программирование на языке высокого уровня (Python).\n",
        "# https://www.yuripetrov.ru/edu/python\n",
        "# Задание task_04_02_20.\n",
        "#\n",
        "# Выполнил: Пришлецова К. С.\n",
        "# Группа: АДЭУ-221\n",
        "# E-mail: greypurplenails78@gmail.com \n",
        "\n",
        "\n",
        "n = int(input(\"n = \"))\n",
        "\n",
        "for i in range(100, 1000):\n",
        "  x = (i//100) + ((i-((i//100)*100))//10) + (i-((i//100)*100)-(((i-((i//100)*100))//10)*10))\n",
        "  if x == n:\n",
        "    print(i, end = \" \")\n",
        "\n",
        "\n",
        "# --------------\n",
        "# Пример вывода:\n",
        "#\n",
        "# n = 3\n",
        "# 102 111 120 201 210 300\n"
      ],
      "metadata": {
        "colab": {
          "base_uri": "https://localhost:8080/"
        },
        "id": "uN9d_1R51sJK",
        "outputId": "cd4ca9f5-f42a-43a6-828b-e491eeaf88de"
      },
      "execution_count": null,
      "outputs": [
        {
          "output_type": "stream",
          "name": "stdout",
          "text": [
            "n = 6\n",
            "105 114 123 132 141 150 204 213 222 231 240 303 312 321 330 402 411 420 501 510 600 "
          ]
        }
      ]
    },
    {
      "cell_type": "markdown",
      "source": [
        "№ 4.2.21\n",
        "\n",
        "Известно количество учеников в классе и их рост (см.); рост мальчиков условно задан отрицательными числами. Определите средний рост мальчиков и средний рост девочек.\n",
        "\n",
        "При выводе вещественных результатов оставьте один знак после запятой."
      ],
      "metadata": {
        "id": "5P3kQZAE6xCI"
      }
    },
    {
      "cell_type": "code",
      "source": [
        "# Программирование на языке высокого уровня (Python).\n",
        "# https://www.yuripetrov.ru/edu/python\n",
        "# Задание task_04_02_21.\n",
        "#\n",
        "# Выполнил: Пришлецова К. С.\n",
        "# Группа: Адэу-221\n",
        "# E-mail: greypurplenails78@gmail.com\n",
        "\n",
        "\n",
        "n = int(input(\"Введите количество учеников: \"))\n",
        "\n",
        "r_sr_m = 0.0\n",
        "r_sr_d = 0.0\n",
        "\n",
        "sr_m = 0\n",
        "sr_d = 0\n",
        "\n",
        "m = 0\n",
        "d = 0\n",
        "\n",
        "for i in range(1, n+1):\n",
        "  x = float(input(\"Рост {}-го ученика = \".format(i)))\n",
        "  if x < 0:\n",
        "    sr_m += x\n",
        "    m += 1\n",
        "  else:\n",
        "    sr_d += x\n",
        "    d += 1\n",
        "\n",
        "r_sr_m = -(sr_m/m)\n",
        "r_sr_d = sr_d/d\n",
        "\n",
        "print(\"Средний рост мальчиков: {:.1f}\".format(r_sr_m))\n",
        "print(\"Средний рост девочек: {:.1f}\".format(r_sr_d))\n",
        "\n",
        "# --------------\n",
        "# Пример вывода:\n",
        "#\n",
        "# n = 5\n",
        "# Рост 1-го ученика = 150\n",
        "# Рост 2-го ученика = -150\n",
        "# Рост 3-го ученика = 160\n",
        "# Рост 4-го ученика = 170\n",
        "# Рост 5-го ученика = 180\n",
        "# Средний рост мальчиков: 150.0\n",
        "# Средний рост девочек: 165.0\n",
        "\n"
      ],
      "metadata": {
        "id": "P9WPXGhY64Hz",
        "colab": {
          "base_uri": "https://localhost:8080/"
        },
        "outputId": "deedc82c-ec08-4476-8c9c-407c0aaf499f"
      },
      "execution_count": null,
      "outputs": [
        {
          "output_type": "stream",
          "name": "stdout",
          "text": [
            "Введите количество учеников: 5\n",
            "Рост 1-го ученика = 150\n",
            "Рост 2-го ученика = -150\n",
            "Рост 3-го ученика = 160\n",
            "Рост 4-го ученика = 170\n",
            "Рост 5-го ученика = 180\n",
            "Средний рост мальчиков: 150.0\n",
            "Средний рост девочек: 165.0\n"
          ]
        }
      ]
    },
    {
      "cell_type": "markdown",
      "source": [
        "№ 4.2.22\n",
        "\n",
        "Даны n вещественных чисел. Определите максимальное и минимальное из них.\n",
        "\n",
        "При выводе вещественных результатов оставьте два знака после запятой."
      ],
      "metadata": {
        "id": "-OgnXn_0TKMk"
      }
    },
    {
      "cell_type": "code",
      "source": [
        "# Программирование на языке высокого уровня (Python).\n",
        "# https://www.yuripetrov.ru/edu/python\n",
        "# Задание task_04_02_22.\n",
        "#\n",
        "# Выполнил: Пришлецова К. С.\n",
        "# Группа: АДЭУ-221\n",
        "# E-mail: greypurplenails78@gmail.com\n",
        "\n",
        "\n",
        "n = int(input(\"Введите количество чисел: \"))\n",
        "\n",
        "a_max = None\n",
        "a_min = None\n",
        "\n",
        "x = float(input(\"1-е число = \"))\n",
        "a_max = x\n",
        "\n",
        "y = float(input(\"2-е число = \"))\n",
        "if y > x:\n",
        "  a_max = y\n",
        "else:\n",
        "  a_min = y\n",
        "\n",
        "for i in range(3, n+1):\n",
        "  z = float(input(\"{}-е число = \".format(i)))\n",
        "  if z > a_max:\n",
        "    a_max = z\n",
        "  elif z < a_min:\n",
        "    a_min = z\n",
        "\n",
        "\n",
        "print(\"Максимум: {:.2f}\".format(a_max))\n",
        "print(\"Минимум: {:.2f}\".format(a_min))\n",
        "\n",
        "# --------------\n",
        "# Пример вывода:\n",
        "#\n",
        "# n = 4\n",
        "# 1-е число = 6.2\n",
        "# 2-е число = 3.8\n",
        "# 3-е число = 1.1\n",
        "# 4-е число = 9.66\n",
        "# Максимум: 9.66\n",
        "# Минимум: 1.10\n",
        "\n"
      ],
      "metadata": {
        "colab": {
          "base_uri": "https://localhost:8080/"
        },
        "id": "JAp2Ejs2TTRm",
        "outputId": "0a1b4595-846f-49bc-82c8-fb9ccab08c46"
      },
      "execution_count": null,
      "outputs": [
        {
          "output_type": "stream",
          "name": "stdout",
          "text": [
            "Введите количество чисел: 4\n",
            "1-е число = 6.2\n",
            "2-е число = 3.8\n",
            "3-е число = 1.1\n",
            "4-е число = 9.66\n",
            "Максимум: 9.66\n",
            "Минимум: 1.10\n"
          ]
        }
      ]
    }
  ]
}