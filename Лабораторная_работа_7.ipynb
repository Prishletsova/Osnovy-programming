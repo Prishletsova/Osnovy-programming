{
  "nbformat": 4,
  "nbformat_minor": 0,
  "metadata": {
    "colab": {
      "provenance": [],
      "authorship_tag": "ABX9TyPSQLCo0+B3sA0UAVWB3219",
      "include_colab_link": true
    },
    "kernelspec": {
      "name": "python3",
      "display_name": "Python 3"
    },
    "language_info": {
      "name": "python"
    }
  },
  "cells": [
    {
      "cell_type": "markdown",
      "metadata": {
        "id": "view-in-github",
        "colab_type": "text"
      },
      "source": [
        "<a href=\"https://colab.research.google.com/github/Prishletsova/Osnovy_programming/blob/main/%D0%9B%D0%B0%D0%B1%D0%BE%D1%80%D0%B0%D1%82%D0%BE%D1%80%D0%BD%D0%B0%D1%8F_%D1%80%D0%B0%D0%B1%D0%BE%D1%82%D0%B0_7.ipynb\" target=\"_parent\"><img src=\"https://colab.research.google.com/assets/colab-badge.svg\" alt=\"Open In Colab\"/></a>"
      ]
    },
    {
      "cell_type": "markdown",
      "source": [
        "# Выполнила: Пришлецова К. С.\n",
        "# Группа: АДЭУ-221\n",
        "# E-mail: greypurplenails78@gmail.com\n"
      ],
      "metadata": {
        "id": "E_jDnZncMSEj"
      }
    },
    {
      "cell_type": "markdown",
      "source": [
        "# Задание task_07_02_01."
      ],
      "metadata": {
        "id": "GKv4nBpbHleI"
      }
    },
    {
      "cell_type": "code",
      "source": [
        "\"\"\"\n",
        "Ошибки (номера строк через пробел, данная строка - №2): 11 13 15\n",
        "\"\"\"\n",
        "\n",
        "\n",
        "def sum_of_digits(n):\n",
        "    \"\"\"Вернуть сумму цифр меньших 5 для положительного целого числа `n`.\n",
        "    Если таких цифр нет, вернуть 0.\"\"\"\n",
        "    c = 0\n",
        "    while n > 0:\n",
        "        digit = n % 10\n",
        "        if digit < 5:\n",
        "            c += digit\n",
        "        n //= 10         \n",
        "    return c\n",
        "\n",
        "sum_of_digits(5678444)"
      ],
      "metadata": {
        "colab": {
          "base_uri": "https://localhost:8080/"
        },
        "id": "qrh_2BZERbAO",
        "outputId": "10386195-eadd-492b-d404-cfc72c2fc6ce"
      },
      "execution_count": null,
      "outputs": [
        {
          "output_type": "execute_result",
          "data": {
            "text/plain": [
              "12"
            ]
          },
          "metadata": {},
          "execution_count": 6
        }
      ]
    },
    {
      "cell_type": "code",
      "source": [
        "help(sum_of_digits)"
      ],
      "metadata": {
        "colab": {
          "base_uri": "https://localhost:8080/"
        },
        "id": "UZR9173IpJdN",
        "outputId": "01094c11-b35d-459d-bec9-f8e510cc9608"
      },
      "execution_count": null,
      "outputs": [
        {
          "output_type": "stream",
          "name": "stdout",
          "text": [
            "Help on function sum_of_digits in module __main__:\n",
            "\n",
            "sum_of_digits(n)\n",
            "    Вернуть сумму цифр меньших 5 для положительного целого числа `n`.\n",
            "    Если таких цифр нет, вернуть 0.\n",
            "\n"
          ]
        }
      ]
    },
    {
      "cell_type": "markdown",
      "source": [
        "# Задание task_07_02_02."
      ],
      "metadata": {
        "id": "XDerpmf5HevM"
      }
    },
    {
      "cell_type": "code",
      "source": [
        "\"\"\"\n",
        "Ошибки (номера строк через пробел, данная строка - №2): 10 11 16 17\n",
        "\"\"\"\n",
        "\n",
        "\n",
        "def primes(a, b):\n",
        "    \"\"\"Вернуть список простых чисел на отрезке от 'a' до 'b'.\"\"\"\n",
        "    res = []\n",
        "    c = 0\n",
        "    for i in range(a, b+1):\n",
        "        for j in range(i+1):\n",
        "            if i % (j + 1) == 0:\n",
        "                c += 1\n",
        "        if c == 2:                 # был неверный уровень, из-за которого в список попадали элементы имеющие хотя бы 2 делителя\n",
        "          res.append(i)\n",
        "          с = 0\n",
        "        else:\n",
        "          c = 0\n",
        "\n",
        "    return res\n",
        "\n",
        "primes(213, 225)"
      ],
      "metadata": {
        "colab": {
          "base_uri": "https://localhost:8080/"
        },
        "id": "yS0CPstw8UNs",
        "outputId": "65df3420-d419-4cdc-9997-92005a564373"
      },
      "execution_count": null,
      "outputs": [
        {
          "output_type": "execute_result",
          "data": {
            "text/plain": [
              "[223]"
            ]
          },
          "metadata": {},
          "execution_count": 8
        }
      ]
    },
    {
      "cell_type": "code",
      "source": [
        "help(primes)"
      ],
      "metadata": {
        "colab": {
          "base_uri": "https://localhost:8080/"
        },
        "id": "1QQanqY7pO6-",
        "outputId": "8d6eee62-3579-4f2c-a090-a0fa00327d46"
      },
      "execution_count": null,
      "outputs": [
        {
          "output_type": "stream",
          "name": "stdout",
          "text": [
            "Help on function primes in module __main__:\n",
            "\n",
            "primes(a, b)\n",
            "    Вернуть список простых чисел на отрезке от 'a' до 'b'.\n",
            "\n"
          ]
        }
      ]
    },
    {
      "cell_type": "markdown",
      "source": [
        "# Задание task_07_02_03."
      ],
      "metadata": {
        "id": "Walv4ojEJj_U"
      }
    },
    {
      "cell_type": "code",
      "source": [
        "\"\"\"\n",
        "Ошибки (номера строк через пробел, данная строка - №2): 21 23\n",
        "\"\"\"\n",
        "\n",
        "\n",
        "def first_vacant_row(seats):\n",
        "    \"\"\"Вернуть первый ряд, в котором имеется больше всего\n",
        "    свободных мест и их количество.\n",
        "\n",
        "    Возвращаемая нумерация рядов с 1. Если свободных мест нет, вернуть 0, 0.\n",
        "\n",
        "    Параметры:\n",
        "        - seats (list of list): информация о проданных билетах\n",
        "                                (1 - продано, 0 - нет).\n",
        "\n",
        "    Результат:\n",
        "        - tuple (ряд, количество мест).\n",
        "    \"\"\"\n",
        "    max_count = 0\n",
        "    max_row = 0\n",
        "    for row_index, row in enumerate(seats, start=1):      \n",
        "        available_seats_count = row.count(0)  # 0 - пусто\n",
        "        if available_seats_count > max_count:   \n",
        "            max_row = row_index\n",
        "            max_count = available_seats_count\n",
        "\n",
        "    return max_row, max_count\n"
      ],
      "metadata": {
        "id": "On-tLld2lTVm"
      },
      "execution_count": null,
      "outputs": []
    },
    {
      "cell_type": "code",
      "source": [
        "import random\n",
        "\n",
        "random.seed(50)\n",
        "\n",
        "ROWS_MAX = 10\n",
        "SEATS_MAX = 5\n",
        "\n",
        "seats = [[random.randint(0, 1) for seat in range(SEATS_MAX)]\n",
        "                               for row in range(ROWS_MAX)]\n",
        "\n",
        "for seat in seats:\n",
        "  print(seat)\n",
        "\n",
        "print(first_vacant_row(seats))"
      ],
      "metadata": {
        "colab": {
          "base_uri": "https://localhost:8080/"
        },
        "id": "XTHA3haEBk-j",
        "outputId": "a695492b-f821-4aaa-ef16-75f761e9a664"
      },
      "execution_count": null,
      "outputs": [
        {
          "output_type": "stream",
          "name": "stdout",
          "text": [
            "[1, 1, 1, 0, 1]\n",
            "[1, 0, 1, 0, 0]\n",
            "[0, 1, 0, 1, 1]\n",
            "[0, 0, 0, 1, 1]\n",
            "[0, 0, 1, 1, 0]\n",
            "[0, 1, 1, 1, 0]\n",
            "[0, 1, 1, 1, 0]\n",
            "[1, 0, 0, 1, 0]\n",
            "[1, 1, 0, 1, 1]\n",
            "[0, 1, 0, 0, 1]\n",
            "(2, 3)\n"
          ]
        }
      ]
    },
    {
      "cell_type": "code",
      "source": [
        "help(first_vacant_row)"
      ],
      "metadata": {
        "colab": {
          "base_uri": "https://localhost:8080/"
        },
        "id": "bmb0tu3RpWAW",
        "outputId": "68b0dc3b-c1a8-4079-e0c0-022b39971d49"
      },
      "execution_count": null,
      "outputs": [
        {
          "output_type": "stream",
          "name": "stdout",
          "text": [
            "Help on function first_vacant_row in module __main__:\n",
            "\n",
            "first_vacant_row(seats)\n",
            "    Вернуть первый ряд, в котором имеется больше всего\n",
            "    свободных мест и их количество.\n",
            "    \n",
            "    Возвращаемая нумерация рядов с 1. Если свободных мест нет, вернуть 0, 0.\n",
            "    \n",
            "    Параметры:\n",
            "        - seats (list of list): информация о проданных билетах\n",
            "                                (1 - продано, 0 - нет).\n",
            "    \n",
            "    Результат:\n",
            "        - tuple (ряд, количество мест).\n",
            "\n"
          ]
        }
      ]
    },
    {
      "cell_type": "markdown",
      "source": [
        "# Задание task_07_02_04."
      ],
      "metadata": {
        "id": "nPKmj3IXl0Kn"
      }
    },
    {
      "cell_type": "code",
      "source": [
        "\"\"\"\n",
        "Ошибки (номера строк через пробел, данная строка - №2): 8 9 10 12\n",
        "\"\"\"\n",
        "\n",
        "\n",
        "def min_pair(nums):\n",
        "    \"\"\"Вернуть минимальную сумму соседних 2-х чисел в списке 'nums'.\"\"\"\n",
        "    min_ch = nums[0] + nums[1]          \n",
        "    for i in range(1, (len(nums)-1)):\n",
        "      min_ch = min(nums[i] + nums[i + 1], min_ch)\n",
        "\n",
        "    return min_ch\n"
      ],
      "metadata": {
        "id": "xwGw-O1u7Jxk"
      },
      "execution_count": null,
      "outputs": []
    },
    {
      "cell_type": "code",
      "source": [
        "import random\n",
        "\n",
        "random.seed(50)\n",
        "\n",
        "N_MAX = 10\n",
        "RANGE_MIN = 1\n",
        "RANGE_MAX = 100\n",
        "nums = random.sample(range(RANGE_MIN, RANGE_MAX), N_MAX)\n",
        "\n",
        "print(nums)\n",
        "\n",
        "print(min_pair(nums))"
      ],
      "metadata": {
        "colab": {
          "base_uri": "https://localhost:8080/"
        },
        "id": "fLwj6q4uBd5l",
        "outputId": "9ac4a620-3260-474b-fb13-dcebdc790e19"
      },
      "execution_count": null,
      "outputs": [
        {
          "output_type": "stream",
          "name": "stdout",
          "text": [
            "[64, 35, 47, 82, 32, 89, 61, 99, 43, 11]\n",
            "54\n"
          ]
        }
      ]
    },
    {
      "cell_type": "code",
      "source": [
        "help(min_pair)"
      ],
      "metadata": {
        "colab": {
          "base_uri": "https://localhost:8080/"
        },
        "id": "pO2SeuLGpbl-",
        "outputId": "2b6dca53-7593-4737-ad8b-c460ec0a2dec"
      },
      "execution_count": null,
      "outputs": [
        {
          "output_type": "stream",
          "name": "stdout",
          "text": [
            "Help on function min_pair in module __main__:\n",
            "\n",
            "min_pair(nums)\n",
            "    Вернуть минимальную сумму соседних 2-х чисел в списке 'nums'.\n",
            "\n"
          ]
        }
      ]
    },
    {
      "cell_type": "markdown",
      "source": [
        "# Задание task_07_02_05."
      ],
      "metadata": {
        "id": "Zd71uUJPA_nw"
      }
    },
    {
      "cell_type": "code",
      "source": [
        "\"\"\"\n",
        "Ошибки (номера строк через пробел, данная строка - №2): 9\n",
        "\"\"\"\n",
        "\n",
        "\n",
        "def non_negatives(nums):\n",
        "    \"\"\"Удалить из списка чисел 'nums' отрицательные элементы и вернуть\n",
        "    измененный список.\"\"\"\n",
        "    for i in reversed(range(len(nums))):\n",
        "        if nums[i] < 0:\n",
        "            del nums[i]\n",
        "\n",
        "    return nums\n"
      ],
      "metadata": {
        "id": "LItMDLsQ0bWs"
      },
      "execution_count": null,
      "outputs": []
    },
    {
      "cell_type": "code",
      "source": [
        "import random\n",
        "\n",
        "n = 10\n",
        "nums = [round(random.uniform(-10, 10), 2) for i in range(n)]\n",
        "print(nums)\n",
        "\n",
        "non_negatives(nums)\n",
        "print(nums)"
      ],
      "metadata": {
        "colab": {
          "base_uri": "https://localhost:8080/"
        },
        "id": "KXel0BEl0d3I",
        "outputId": "a8acc28a-bb92-4dd6-852e-1c00d5af1ee9"
      },
      "execution_count": null,
      "outputs": [
        {
          "output_type": "stream",
          "name": "stdout",
          "text": [
            "[0.77, -5.51, 1.13, 8.61, -3.06, -8.03, -3.05, -5.55, -8.63, 7.29]\n",
            "[0.77, 1.13, 8.61, 7.29]\n"
          ]
        }
      ]
    },
    {
      "cell_type": "code",
      "source": [
        "help(non_negatives)"
      ],
      "metadata": {
        "colab": {
          "base_uri": "https://localhost:8080/"
        },
        "id": "onXbddryph7O",
        "outputId": "a6ee8d82-ff35-4135-bc0c-6a9f5d6a900c"
      },
      "execution_count": null,
      "outputs": [
        {
          "output_type": "stream",
          "name": "stdout",
          "text": [
            "Help on function non_negatives in module __main__:\n",
            "\n",
            "non_negatives(nums)\n",
            "    Удалить из списка чисел 'nums' отрицательные элементы и вернуть\n",
            "    измененный список.\n",
            "\n"
          ]
        }
      ]
    },
    {
      "cell_type": "markdown",
      "source": [
        "# Задание task_07_02_06."
      ],
      "metadata": {
        "id": "AUrRpMy41BVK"
      }
    },
    {
      "cell_type": "code",
      "source": [
        "\"\"\"\n",
        "Ошибки (номера строк через пробел, данная строка - №2): !!!\n",
        "\"\"\"\n",
        "\n",
        "\n",
        "def unemployment_rate(unemployed, employed):\n",
        "    \"\"\"Вернуть уровень безработицы (УБ) в долях 1.\n",
        "\n",
        "       Расчет по формуле: УБ = Безработные / (Занятые + Безработные).\n",
        "    \"\"\"\n",
        "    return unemployed / (unemployed + employed)\n",
        "\n",
        "try:\n",
        "    unemployed = int(input(\"Введите кол-во безработных (чел.): \"))\n",
        "    employed = int(input(\"Введите кол-во занятых (чел.): \"))\n",
        "    rate = unemployment_rate(unemployed, employed)\n",
        "    print(\"Уровень безработицы = {:.1%}\".format(rate))\n",
        "    if unemployed + employed == 0:\n",
        "        raise ZeroDivisionError(\"Делить на ноль нельзя\")\n",
        "except ValueError as err:\n",
        "    print(\"Будьте внимательны:\", err) \n",
        "except ZeroDivisionError as err:\n",
        "    print(\"Будьте внимательны:\", err)\n",
        "except Exception as err:\n",
        "    print(\"Произошла ошибка!\")\n",
        "    print(\"Тип:\", type(err))\n",
        "    print(\"Описание:\", err)"
      ],
      "metadata": {
        "colab": {
          "base_uri": "https://localhost:8080/"
        },
        "id": "TKefQBIIyTE9",
        "outputId": "5576c77d-178f-41ab-a16f-a7135dbcb939"
      },
      "execution_count": null,
      "outputs": [
        {
          "output_type": "stream",
          "name": "stdout",
          "text": [
            "Введите кол-во безработных (чел.): 0\n",
            "Введите кол-во занятых (чел.): qwerty\n",
            "Будьте внимательны: invalid literal for int() with base 10: 'qwerty'\n"
          ]
        }
      ]
    },
    {
      "cell_type": "code",
      "source": [
        "help(unemployment_rate)"
      ],
      "metadata": {
        "colab": {
          "base_uri": "https://localhost:8080/"
        },
        "id": "lJCVrnU9pvXL",
        "outputId": "eb238692-5f34-4342-d591-a47b3aa6af0d"
      },
      "execution_count": null,
      "outputs": [
        {
          "output_type": "stream",
          "name": "stdout",
          "text": [
            "Help on function unemployment_rate in module __main__:\n",
            "\n",
            "unemployment_rate(unemployed, employed)\n",
            "    Вернуть уровень безработицы (УБ) в долях 1.\n",
            "    \n",
            "    Расчет по формуле: УБ = Безработные / (Занятые + Безработные).\n",
            "\n"
          ]
        }
      ]
    },
    {
      "cell_type": "markdown",
      "source": [
        "# Задание task_07_02_07."
      ],
      "metadata": {
        "id": "aTqwdPokO67Z"
      }
    },
    {
      "cell_type": "code",
      "source": [
        "\"\"\"\n",
        "Ошибки (номера строк через пробел, данная строка - №2): !!!\n",
        "\"\"\"\n",
        "\n",
        "\n",
        "def power(x, y=2):\n",
        "    \"\"\"Вернуть x^y.\"\"\"\n",
        "    if y == 0:\n",
        "        return 1\n",
        "    else:\n",
        "        return x * power(x, y - 1)\n",
        "\n",
        "\n",
        "try:\n",
        "    x = int(input(\"x=\"))\n",
        "    y = int(input(\"y=\"))\n",
        "    print(power(x, y))\n",
        "except ValueError as eh:\n",
        "    print(\"Произошла ошибка!\", eh)\n",
        "except Exception as eh:\n",
        "    print(\"Произошла ошибка!\")\n",
        "    print(\"Тип:\", type(eh))\n",
        "    print(\"Описание:\", eh)\n",
        "finally:\n",
        "    print(\" \")\n",
        "    print(\"Спасибо, что воспользовались нашим степенным калькулятором\")"
      ],
      "metadata": {
        "colab": {
          "base_uri": "https://localhost:8080/"
        },
        "id": "0VdnLwqC-X-s",
        "outputId": "4fd0b629-22c3-4543-f9b6-4a2bb6e3c21b"
      },
      "execution_count": null,
      "outputs": [
        {
          "output_type": "stream",
          "name": "stdout",
          "text": [
            "x=9\n",
            "y=-2\n",
            "Произошла ошибка!\n",
            "Тип: <class 'RecursionError'>\n",
            "Описание: maximum recursion depth exceeded in comparison\n",
            " \n",
            "Спасибо, что воспользовались нашим степенным калькулятором\n"
          ]
        }
      ]
    },
    {
      "cell_type": "code",
      "source": [
        "help(power)"
      ],
      "metadata": {
        "colab": {
          "base_uri": "https://localhost:8080/"
        },
        "id": "BEcLfoZNp3zM",
        "outputId": "0d53978b-25bc-499b-e866-f38120d9a5d0"
      },
      "execution_count": null,
      "outputs": [
        {
          "output_type": "stream",
          "name": "stdout",
          "text": [
            "Help on function power in module __main__:\n",
            "\n",
            "power(x, y=2)\n",
            "    Вернуть x^y.\n",
            "\n"
          ]
        }
      ]
    },
    {
      "cell_type": "markdown",
      "source": [
        "# Задание task_07_02_08."
      ],
      "metadata": {
        "id": "cRFdXB9eqWu8"
      }
    },
    {
      "cell_type": "code",
      "source": [
        "\"\"\"\n",
        "Ошибки (номера строк через пробел, данная строка - №2): !!!\n",
        "\"\"\"\n",
        "\n",
        "\n",
        "# Дан список ФИО. Найти наиболее часто встречаемое отчество.\n",
        "# Если отчества нет, человек не учитывается в подсчете.\n",
        "\n",
        "try:\n",
        "    n = int(input(\"Введите кол-во человек: \"))\n",
        "except ValueError as ef:\n",
        "    print(\"Произошла ошибка!\", ef)\n",
        "    import sys\n",
        "    sys.exit(\"aa! errors!\")\n",
        "middle_names = {}\n",
        "try:\n",
        "    for i in range(n):\n",
        "        fio = input(\"Введите ФИО через пробел: \").split()\n",
        "        if len(fio) == 3:\n",
        "            middle_name = fio[2]\n",
        "            middle_names[middle_name] = middle_names.get(middle_name, 0) + 1\n",
        "        elif len(fio) == 2:\n",
        "            continue\n",
        "        elif len(fio) == 1:\n",
        "            raise ValueError(\"Введенно недостаточно данных.\")\n",
        "            break\n",
        "except ValueError as ef:\n",
        "    print(\"Произошла ошибка!\", ef)\n",
        "\n",
        "try:\n",
        "    print(sorted(middle_names.items(), key=lambda item: item[1])[-1][0])\n",
        "    print(\"В расчете участвовало человек:\", n)\n",
        "except ValueError as ef:\n",
        "    print(\"Произошла ошибка!\", ef)\n",
        "except Exception as ef:\n",
        "    print(\"Произошла ошибка!\", ef)\n"
      ],
      "metadata": {
        "colab": {
          "base_uri": "https://localhost:8080/"
        },
        "id": "QZ2rk6A8EteW",
        "outputId": "1eed65be-108a-42e0-f3a6-cc70bd21b262"
      },
      "execution_count": null,
      "outputs": [
        {
          "output_type": "stream",
          "name": "stdout",
          "text": [
            "Введите кол-во человек: 2\n",
            "Введите ФИО через пробел: 1\n",
            "Произошла ошибка! Введенно недостаточно данных.\n",
            "Произошла ошибка! list index out of range\n"
          ]
        }
      ]
    },
    {
      "cell_type": "code",
      "source": [
        "print(__doc__)"
      ],
      "metadata": {
        "colab": {
          "base_uri": "https://localhost:8080/"
        },
        "id": "i0Q5vdZiEt_j",
        "outputId": "b701ae53-bafa-4d09-d421-c9dcedd0dd02"
      },
      "execution_count": null,
      "outputs": [
        {
          "output_type": "stream",
          "name": "stdout",
          "text": [
            "\n",
            "Ошибки (номера строк через пробел, данная строка - №2): !!!\n",
            "\n"
          ]
        }
      ]
    },
    {
      "cell_type": "markdown",
      "source": [
        "# Задание task_07_02_09."
      ],
      "metadata": {
        "id": "95MNBqwXmjn7"
      }
    },
    {
      "cell_type": "code",
      "source": [
        "\"\"\"\n",
        "Ошибки (номера строк через пробел, данная строка - №2): !!!\n",
        "\"\"\"\n",
        "\n",
        "\n",
        "def f(x):\n",
        "    \"\"\"Вернуть значение функции.\n",
        "\n",
        "    Функция не обрабатывает исключения.\n",
        "    \"\"\"\n",
        "    try:\n",
        "        return x**2 / (x + 2) - 3\n",
        "    except ValueError as s:\n",
        "        print(\"Произошла ошибка!\", s)\n",
        "\n",
        "\n",
        "try:\n",
        "    k = int(input(\"Введите границу интервала [-k; k]: \"))\n",
        "    h = float(input(\"Введите шаг табуляции: \"))\n",
        "except ValueError as s:\n",
        "    print(\"Произошла ошибка!\", s)\n",
        "\n",
        "x = -k\n",
        "try:\n",
        "    print(\"{:>10} {:>10}\".format(\"x\", \"f(x)\"))\n",
        "    while x <= k:\n",
        "    # Если во время вычисления функции возникнет ошибка,\n",
        "    # при выводе необходимо указать прочерк \"-\"\n",
        "    # Данный случай должен обрабатывать второй вложенный блок try\n",
        "        try:\n",
        "            print(\"{:10.2f} {:10.2f}\".format(x, f(x)))\n",
        "        except:\n",
        "            print(\"{:10.2f} {:>10s}\".format(x, '-'))\n",
        "        x += h\n",
        "except:\n",
        "    print(\" \")\n",
        "\n",
        " \n",
        "# --------------\n",
        "# Пример вывода:\n",
        "#\n",
        "# Введите границу интервала [-k; k]: 5\n",
        "# Введите шаг табуляции: 0.5\n",
        "#          x       f(x)\n",
        "#      -5.00     -11.33\n",
        "#      -4.50     -11.10\n",
        "#      -4.00     -11.00\n",
        "#      -3.50     -11.17\n",
        "#      -3.00     -12.00\n",
        "#      -2.50     -15.50\n",
        "#      -2.00          -\n",
        "#      -1.50       1.50\n",
        "#      -1.00      -2.00\n",
        "#      -0.50      -2.83\n",
        "#       0.00      -3.00\n",
        "#       0.50      -2.90\n",
        "#       1.00      -2.67\n",
        "#       1.50      -2.36\n",
        "#       2.00      -2.00\n",
        "#       2.50      -1.61\n",
        "#       3.00      -1.20\n",
        "#       3.50      -0.77\n",
        "#       4.00      -0.33\n",
        "#       4.50       0.12\n",
        "#       5.00       0.57\n"
      ],
      "metadata": {
        "id": "k77RP2hImj7l",
        "colab": {
          "base_uri": "https://localhost:8080/"
        },
        "outputId": "a02bf8ee-6b60-4283-c46f-4285526b846e"
      },
      "execution_count": null,
      "outputs": [
        {
          "output_type": "stream",
          "name": "stdout",
          "text": [
            "Введите границу интервала [-k; k]: qwert\n",
            "Произошла ошибка! invalid literal for int() with base 10: 'qwert'\n",
            "         x       f(x)\n",
            "     -5.00     -11.33\n",
            "     -4.50     -11.10\n",
            "     -4.00     -11.00\n",
            "     -3.50     -11.17\n",
            "     -3.00     -12.00\n",
            "     -2.50     -15.50\n",
            "     -2.00          -\n",
            "     -1.50       1.50\n",
            "     -1.00      -2.00\n",
            "     -0.50      -2.83\n",
            "      0.00      -3.00\n",
            "      0.50      -2.90\n",
            "      1.00      -2.67\n",
            "      1.50      -2.36\n",
            "      2.00      -2.00\n",
            "      2.50      -1.61\n",
            "      3.00      -1.20\n",
            "      3.50      -0.77\n",
            "      4.00      -0.33\n",
            "      4.50       0.12\n",
            "      5.00       0.57\n"
          ]
        }
      ]
    }
  ]
}